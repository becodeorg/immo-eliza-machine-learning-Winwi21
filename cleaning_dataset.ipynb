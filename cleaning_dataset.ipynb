{
 "cells": [
  {
   "cell_type": "markdown",
   "id": "00af27ff",
   "metadata": {},
   "source": [
    "DATA CLEANING"
   ]
  },
  {
   "cell_type": "code",
   "execution_count": 1,
   "id": "55414d24",
   "metadata": {},
   "outputs": [],
   "source": [
    "import numpy as np \n",
    "import pandas as pd "
   ]
  },
  {
   "cell_type": "code",
   "execution_count": 2,
   "id": "f4d34169",
   "metadata": {},
   "outputs": [
    {
     "name": "stdout",
     "output_type": "stream",
     "text": [
      "       Unnamed: 0          id  \\\n",
      "0               0  20661494.0   \n",
      "1               1  20647642.0   \n",
      "2               2  20644816.0   \n",
      "3               3  20659813.0   \n",
      "4               4  20633249.0   \n",
      "...           ...         ...   \n",
      "80363      440319  20663057.0   \n",
      "80364      440364  20664347.0   \n",
      "80365      440966  20664354.0   \n",
      "80366      442237  20664377.0   \n",
      "80367      446550  20664387.0   \n",
      "\n",
      "                                                     url       type  \\\n",
      "0      https://www.immoweb.be/en/classified/apartment...  APARTMENT   \n",
      "1      https://www.immoweb.be/en/classified/house/for...      HOUSE   \n",
      "2      https://www.immoweb.be/en/classified/apartment...  APARTMENT   \n",
      "3      https://www.immoweb.be/en/classified/apartment...  APARTMENT   \n",
      "4      https://www.immoweb.be/en/classified/flat-stud...  APARTMENT   \n",
      "...                                                  ...        ...   \n",
      "80363  https://www.immoweb.be/en/classified/villa/for...      HOUSE   \n",
      "80364  https://www.immoweb.be/en/classified/apartment...  APARTMENT   \n",
      "80365  https://www.immoweb.be/en/classified/apartment...  APARTMENT   \n",
      "80366  https://www.immoweb.be/en/classified/apartment...  APARTMENT   \n",
      "80367  https://www.immoweb.be/en/classified/apartment...  APARTMENT   \n",
      "\n",
      "           subtype  bedroomCount  bathroomCount         province  \\\n",
      "0        APARTMENT           2.0            1.0         Brussels   \n",
      "1            HOUSE           4.0            2.0         Brussels   \n",
      "2        APARTMENT           2.0            1.0         Brussels   \n",
      "3        APARTMENT           2.0            2.0         Brussels   \n",
      "4      FLAT_STUDIO           1.0            1.0         Brussels   \n",
      "...            ...           ...            ...              ...   \n",
      "80363        VILLA           3.0            1.0          Antwerp   \n",
      "80364    APARTMENT           3.0            1.0         Brussels   \n",
      "80365    APARTMENT           3.0            1.0  Flemish Brabant   \n",
      "80366    APARTMENT           3.0            2.0    West Flanders   \n",
      "80367    APARTMENT           3.0            2.0          Antwerp   \n",
      "\n",
      "                         locality  postCode  ...  hasOffice  toiletCount  \\\n",
      "0                       Etterbeek      1040  ...        NaN          1.0   \n",
      "1                       Etterbeek      1040  ...       True          3.0   \n",
      "2                       Etterbeek      1040  ...        NaN          1.0   \n",
      "3                       Bruxelles      1040  ...        NaN          2.0   \n",
      "4                       Etterbeek      1040  ...        NaN          1.0   \n",
      "...                           ...       ...  ...        ...          ...   \n",
      "80363                  Willebroek      2830  ...        NaN          3.0   \n",
      "80364                       Jette      1090  ...        NaN          1.0   \n",
      "80365  Grimbergen Strombeek-Bever      1853  ...        NaN          1.0   \n",
      "80366                    Westende      8434  ...        NaN          2.0   \n",
      "80367                     Wilrijk      2610  ...        NaN          2.0   \n",
      "\n",
      "       hasSwimmingPool hasFireplace hasTerrace terraceSurface  \\\n",
      "0                  NaN          NaN       True            7.0   \n",
      "1                  NaN          NaN       True            1.0   \n",
      "2                  NaN          NaN       True            2.0   \n",
      "3                  NaN          NaN       True            3.0   \n",
      "4                  NaN          NaN        NaN            NaN   \n",
      "...                ...          ...        ...            ...   \n",
      "80363             True          NaN       True            NaN   \n",
      "80364              NaN          NaN       True           10.0   \n",
      "80365              NaN          NaN       True            9.0   \n",
      "80366              NaN          NaN       True            NaN   \n",
      "80367              NaN          NaN       True            NaN   \n",
      "\n",
      "       terraceOrientation accessibleDisabledPeople epcScore     price  \n",
      "0                     NaN                      NaN        C  399000.0  \n",
      "1                     NaN                      NaN        E  895000.0  \n",
      "2                     NaN                      NaN        F  465000.0  \n",
      "3                     NaN                      NaN        B  590000.0  \n",
      "4                     NaN                      NaN        E  289000.0  \n",
      "...                   ...                      ...      ...       ...  \n",
      "80363                 NaN                      NaN        B  849000.0  \n",
      "80364                 NaN                      NaN        D  279000.0  \n",
      "80365                 NaN                      NaN        B  299000.0  \n",
      "80366                 NaN                      NaN        A  325000.0  \n",
      "80367                 NaN                      NaN        B  340000.0  \n",
      "\n",
      "[80368 rows x 53 columns]\n"
     ]
    }
   ],
   "source": [
    "data = './data/Kangaroo.csv'\n",
    "Kangaroo = pd.read_csv(data, sep = ',')\n",
    "df = pd.DataFrame(Kangaroo)\n",
    "\n",
    "print(df)"
   ]
  },
  {
   "cell_type": "code",
   "execution_count": 3,
   "id": "9275793c",
   "metadata": {},
   "outputs": [
    {
     "name": "stdout",
     "output_type": "stream",
     "text": [
      "<bound method Series.count of 0        False\n",
      "1        False\n",
      "2        False\n",
      "3        False\n",
      "4        False\n",
      "         ...  \n",
      "80363    False\n",
      "80364    False\n",
      "80365    False\n",
      "80366    False\n",
      "80367    False\n",
      "Length: 80368, dtype: bool>\n"
     ]
    }
   ],
   "source": [
    "# Search if there are duplicates and remove it\n",
    "duplicates = df.duplicated()\n",
    "df.drop_duplicates(inplace=True)\n",
    "print(duplicates.count)"
   ]
  },
  {
   "cell_type": "code",
   "execution_count": 4,
   "id": "e8a52f7f",
   "metadata": {},
   "outputs": [
    {
     "name": "stdout",
     "output_type": "stream",
     "text": [
      "Unnamed: 0                    0.00\n",
      "id                            0.00\n",
      "url                           0.00\n",
      "type                          0.00\n",
      "subtype                       0.00\n",
      "bedroomCount                  8.47\n",
      "bathroomCount                17.04\n",
      "province                      0.00\n",
      "locality                      0.00\n",
      "postCode                      0.00\n",
      "habitableSurface             15.66\n",
      "roomCount                    72.69\n",
      "monthlyCost                 100.00\n",
      "hasAttic                     84.43\n",
      "hasBasement                  63.52\n",
      "hasDressingRoom              96.73\n",
      "diningRoomSurface            91.41\n",
      "hasDiningRoom                82.40\n",
      "buildingCondition            27.84\n",
      "buildingConstructionYear     38.90\n",
      "facedeCount                  33.76\n",
      "floorCount                   53.28\n",
      "streetFacadeWidth            80.70\n",
      "hasLift                      76.30\n",
      "floodZoneType                44.67\n",
      "heatingType                  41.33\n",
      "hasHeatPump                  90.70\n",
      "hasPhotovoltaicPanels        89.99\n",
      "hasThermicPanels             96.13\n",
      "kitchenSurface               69.81\n",
      "kitchenType                  47.84\n",
      "landSurface                  50.80\n",
      "hasLivingRoom                46.65\n",
      "livingRoomSurface            63.98\n",
      "hasBalcony                  100.00\n",
      "hasGarden                    80.14\n",
      "gardenSurface                80.14\n",
      "gardenOrientation            93.03\n",
      "parkingCountIndoor           64.86\n",
      "parkingCountOutdoor          77.20\n",
      "hasAirConditioning           98.60\n",
      "hasArmoredDoor               95.40\n",
      "hasVisiophone                80.10\n",
      "hasOffice                    87.08\n",
      "toiletCount                  31.45\n",
      "hasSwimmingPool              97.74\n",
      "hasFireplace                 96.21\n",
      "hasTerrace                   40.99\n",
      "terraceSurface               64.41\n",
      "terraceOrientation           85.99\n",
      "accessibleDisabledPeople    100.00\n",
      "epcScore                     18.64\n",
      "price                         4.97\n",
      "dtype: float64\n"
     ]
    }
   ],
   "source": [
    "na_values = df.isnull().sum()\n",
    "missing_percent = (na_values/ len(df)) * 100\n",
    "print (missing_percent.round(2))\n"
   ]
  },
  {
   "cell_type": "code",
   "execution_count": 5,
   "id": "9c28562e",
   "metadata": {},
   "outputs": [
    {
     "name": "stdout",
     "output_type": "stream",
     "text": [
      "<bound method DataFrame.info of        Unnamed: 0          id  \\\n",
      "0               0  20661494.0   \n",
      "1               1  20647642.0   \n",
      "2               2  20644816.0   \n",
      "3               3  20659813.0   \n",
      "4               4  20633249.0   \n",
      "...           ...         ...   \n",
      "80363      440319  20663057.0   \n",
      "80364      440364  20664347.0   \n",
      "80365      440966  20664354.0   \n",
      "80366      442237  20664377.0   \n",
      "80367      446550  20664387.0   \n",
      "\n",
      "                                                     url       type  \\\n",
      "0      https://www.immoweb.be/en/classified/apartment...  APARTMENT   \n",
      "1      https://www.immoweb.be/en/classified/house/for...      HOUSE   \n",
      "2      https://www.immoweb.be/en/classified/apartment...  APARTMENT   \n",
      "3      https://www.immoweb.be/en/classified/apartment...  APARTMENT   \n",
      "4      https://www.immoweb.be/en/classified/flat-stud...  APARTMENT   \n",
      "...                                                  ...        ...   \n",
      "80363  https://www.immoweb.be/en/classified/villa/for...      HOUSE   \n",
      "80364  https://www.immoweb.be/en/classified/apartment...  APARTMENT   \n",
      "80365  https://www.immoweb.be/en/classified/apartment...  APARTMENT   \n",
      "80366  https://www.immoweb.be/en/classified/apartment...  APARTMENT   \n",
      "80367  https://www.immoweb.be/en/classified/apartment...  APARTMENT   \n",
      "\n",
      "           subtype  bedroomCount  bathroomCount         province  \\\n",
      "0        APARTMENT           2.0            1.0         Brussels   \n",
      "1            HOUSE           4.0            2.0         Brussels   \n",
      "2        APARTMENT           2.0            1.0         Brussels   \n",
      "3        APARTMENT           2.0            2.0         Brussels   \n",
      "4      FLAT_STUDIO           1.0            1.0         Brussels   \n",
      "...            ...           ...            ...              ...   \n",
      "80363        VILLA           3.0            1.0          Antwerp   \n",
      "80364    APARTMENT           3.0            1.0         Brussels   \n",
      "80365    APARTMENT           3.0            1.0  Flemish Brabant   \n",
      "80366    APARTMENT           3.0            2.0    West Flanders   \n",
      "80367    APARTMENT           3.0            2.0          Antwerp   \n",
      "\n",
      "                         locality  postCode  ...  buildingConstructionYear  \\\n",
      "0                       Etterbeek      1040  ...                    2004.0   \n",
      "1                       Etterbeek      1040  ...                    1910.0   \n",
      "2                       Etterbeek      1040  ...                    1970.0   \n",
      "3                       Bruxelles      1040  ...                    2018.0   \n",
      "4                       Etterbeek      1040  ...                    1906.0   \n",
      "...                           ...       ...  ...                       ...   \n",
      "80363                  Willebroek      2830  ...                    2008.0   \n",
      "80364                       Jette      1090  ...                    1970.0   \n",
      "80365  Grimbergen Strombeek-Bever      1853  ...                    1964.0   \n",
      "80366                    Westende      8434  ...                       NaN   \n",
      "80367                     Wilrijk      2610  ...                    1964.0   \n",
      "\n",
      "      facedeCount          floodZoneType  heatingType     kitchenType  \\\n",
      "0             1.0         NON_FLOOD_ZONE          GAS   SEMI_EQUIPPED   \n",
      "1             2.0         NON_FLOOD_ZONE      FUELOIL       INSTALLED   \n",
      "2             2.0                    NaN      FUELOIL  HYPER_EQUIPPED   \n",
      "3             NaN  RECOGNIZED_FLOOD_ZONE          GAS  HYPER_EQUIPPED   \n",
      "4             2.0         NON_FLOOD_ZONE          GAS       INSTALLED   \n",
      "...           ...                    ...          ...             ...   \n",
      "80363         4.0         NON_FLOOD_ZONE          NaN             NaN   \n",
      "80364         4.0         NON_FLOOD_ZONE          GAS   SEMI_EQUIPPED   \n",
      "80365         NaN                    NaN          GAS  HYPER_EQUIPPED   \n",
      "80366         NaN                    NaN          GAS             NaN   \n",
      "80367         NaN         NON_FLOOD_ZONE          NaN             NaN   \n",
      "\n",
      "      hasLivingRoom toiletCount hasTerrace  epcScore     price  \n",
      "0              True         1.0       True         C  399000.0  \n",
      "1              True         3.0       True         E  895000.0  \n",
      "2              True         1.0       True         F  465000.0  \n",
      "3              True         2.0       True         B  590000.0  \n",
      "4               NaN         1.0        NaN         E  289000.0  \n",
      "...             ...         ...        ...       ...       ...  \n",
      "80363          True         3.0       True         B  849000.0  \n",
      "80364          True         1.0       True         D  279000.0  \n",
      "80365          True         1.0       True         B  299000.0  \n",
      "80366          True         2.0       True         A  325000.0  \n",
      "80367          True         2.0       True         B  340000.0  \n",
      "\n",
      "[80368 rows x 22 columns]>\n"
     ]
    }
   ],
   "source": [
    "for col in df.columns:\n",
    "    if missing_percent[col] > 50:\n",
    "        df.drop(columns=col, inplace=True)\n",
    "print(df.info)"
   ]
  },
  {
   "cell_type": "code",
   "execution_count": 6,
   "id": "1b037363",
   "metadata": {},
   "outputs": [
    {
     "name": "stdout",
     "output_type": "stream",
     "text": [
      "(80368, 22)\n",
      "Index(['Unnamed: 0', 'id', 'url', 'type', 'subtype', 'bedroomCount',\n",
      "       'bathroomCount', 'province', 'locality', 'postCode', 'habitableSurface',\n",
      "       'buildingCondition', 'buildingConstructionYear', 'facedeCount',\n",
      "       'floodZoneType', 'heatingType', 'kitchenType', 'hasLivingRoom',\n",
      "       'toiletCount', 'hasTerrace', 'epcScore', 'price'],\n",
      "      dtype='object')\n"
     ]
    }
   ],
   "source": [
    "print(df.shape)\n",
    "print(df.columns)"
   ]
  },
  {
   "cell_type": "code",
   "execution_count": 7,
   "id": "12f32043",
   "metadata": {},
   "outputs": [
    {
     "name": "stdout",
     "output_type": "stream",
     "text": [
      "            type      subtype  bedroomCount  bathroomCount         province  \\\n",
      "0      APARTMENT    APARTMENT           2.0            1.0         Brussels   \n",
      "1          HOUSE        HOUSE           4.0            2.0         Brussels   \n",
      "2      APARTMENT    APARTMENT           2.0            1.0         Brussels   \n",
      "3      APARTMENT    APARTMENT           2.0            2.0         Brussels   \n",
      "4      APARTMENT  FLAT_STUDIO           1.0            1.0         Brussels   \n",
      "...          ...          ...           ...            ...              ...   \n",
      "80363      HOUSE        VILLA           3.0            1.0          Antwerp   \n",
      "80364  APARTMENT    APARTMENT           3.0            1.0         Brussels   \n",
      "80365  APARTMENT    APARTMENT           3.0            1.0  Flemish Brabant   \n",
      "80366  APARTMENT    APARTMENT           3.0            2.0    West Flanders   \n",
      "80367  APARTMENT    APARTMENT           3.0            2.0          Antwerp   \n",
      "\n",
      "       postCode  habitableSurface buildingCondition  facedeCount hasTerrace  \\\n",
      "0          1040             100.0              GOOD          1.0       True   \n",
      "1          1040             270.0     TO_BE_DONE_UP          2.0       True   \n",
      "2          1040              87.0            AS_NEW          2.0       True   \n",
      "3          1040             104.0            AS_NEW          NaN       True   \n",
      "4          1040              71.0            AS_NEW          2.0        NaN   \n",
      "...         ...               ...               ...          ...        ...   \n",
      "80363      2830             252.0            AS_NEW          4.0       True   \n",
      "80364      1090              94.0              GOOD          4.0       True   \n",
      "80365      1853             113.0              GOOD          NaN       True   \n",
      "80366      8434             111.0    JUST_RENOVATED          NaN       True   \n",
      "80367      2610             132.0              GOOD          NaN       True   \n",
      "\n",
      "      epcScore     price  \n",
      "0            C  399000.0  \n",
      "1            E  895000.0  \n",
      "2            F  465000.0  \n",
      "3            B  590000.0  \n",
      "4            E  289000.0  \n",
      "...        ...       ...  \n",
      "80363        B  849000.0  \n",
      "80364        D  279000.0  \n",
      "80365        B  299000.0  \n",
      "80366        A  325000.0  \n",
      "80367        B  340000.0  \n",
      "\n",
      "[80368 rows x 12 columns]\n"
     ]
    }
   ],
   "source": [
    "#Remove unuseful and unrelevant columns: \n",
    "df = df.drop(columns=['url','id','kitchenType','toiletCount','buildingConstructionYear','heatingType', 'floodZoneType','locality','hasLivingRoom'], errors='ignore')\n",
    "df.drop(columns=['Unnamed: 0'], inplace=True)\n",
    "print(df)"
   ]
  },
  {
   "cell_type": "code",
   "execution_count": 8,
   "id": "0ef4f611",
   "metadata": {},
   "outputs": [
    {
     "name": "stdout",
     "output_type": "stream",
     "text": [
      "(1565, 12)\n",
      "              type      subtype  bedroomCount  bathroomCount       province  \\\n",
      "670    HOUSE_GROUP  HOUSE_GROUP           NaN            NaN       Brussels   \n",
      "1303   HOUSE_GROUP  HOUSE_GROUP           NaN            NaN       Brussels   \n",
      "1324   HOUSE_GROUP  HOUSE_GROUP           NaN            NaN       Brussels   \n",
      "1433   HOUSE_GROUP  HOUSE_GROUP           NaN            NaN       Brussels   \n",
      "2476   HOUSE_GROUP  HOUSE_GROUP           NaN            NaN       Brussels   \n",
      "...            ...          ...           ...            ...            ...   \n",
      "80091  HOUSE_GROUP  HOUSE_GROUP           NaN            NaN  East Flanders   \n",
      "80128  HOUSE_GROUP  HOUSE_GROUP           NaN            NaN  East Flanders   \n",
      "80256  HOUSE_GROUP  HOUSE_GROUP           NaN            NaN  East Flanders   \n",
      "80289  HOUSE_GROUP  HOUSE_GROUP           NaN            NaN  East Flanders   \n",
      "80307  HOUSE_GROUP  HOUSE_GROUP           NaN            NaN  East Flanders   \n",
      "\n",
      "       postCode  habitableSurface buildingCondition  facedeCount hasTerrace  \\\n",
      "670        1030               NaN               NaN          NaN        NaN   \n",
      "1303       1000               NaN               NaN          NaN        NaN   \n",
      "1324       1000               NaN               NaN          NaN        NaN   \n",
      "1433       1000               NaN               NaN          NaN        NaN   \n",
      "2476       1050               NaN               NaN          NaN        NaN   \n",
      "...         ...               ...               ...          ...        ...   \n",
      "80091      9940               NaN               NaN          NaN        NaN   \n",
      "80128      9940               NaN               NaN          NaN        NaN   \n",
      "80256      9990               NaN               NaN          NaN        NaN   \n",
      "80289      9990               NaN               NaN          NaN        NaN   \n",
      "80307      9990               NaN               NaN          NaN        NaN   \n",
      "\n",
      "      epcScore  price  \n",
      "670        NaN    NaN  \n",
      "1303       NaN    NaN  \n",
      "1324         A    NaN  \n",
      "1433       NaN    NaN  \n",
      "2476       NaN    NaN  \n",
      "...        ...    ...  \n",
      "80091      NaN    NaN  \n",
      "80128      NaN    NaN  \n",
      "80256      NaN    NaN  \n",
      "80289        A    NaN  \n",
      "80307      NaN    NaN  \n",
      "\n",
      "[1565 rows x 12 columns]\n"
     ]
    }
   ],
   "source": [
    "df_filtered = df[df['type'] == 'HOUSE_GROUP']\n",
    "print(df_filtered.shape)\n",
    "print(df_filtered)"
   ]
  },
  {
   "cell_type": "code",
   "execution_count": 9,
   "id": "6c0de02a",
   "metadata": {},
   "outputs": [
    {
     "name": "stdout",
     "output_type": "stream",
     "text": [
      "(2425, 12)\n",
      "                  type          subtype  bedroomCount  bathroomCount  \\\n",
      "13     APARTMENT_GROUP  APARTMENT_GROUP           NaN            NaN   \n",
      "25     APARTMENT_GROUP  APARTMENT_GROUP           NaN            NaN   \n",
      "131    APARTMENT_GROUP  APARTMENT_GROUP           NaN            NaN   \n",
      "296    APARTMENT_GROUP  APARTMENT_GROUP           NaN            NaN   \n",
      "302    APARTMENT_GROUP  APARTMENT_GROUP           NaN            NaN   \n",
      "...                ...              ...           ...            ...   \n",
      "79935  APARTMENT_GROUP  APARTMENT_GROUP           NaN            NaN   \n",
      "80243  APARTMENT_GROUP  APARTMENT_GROUP           NaN            NaN   \n",
      "80255  APARTMENT_GROUP  APARTMENT_GROUP           NaN            NaN   \n",
      "80273  APARTMENT_GROUP  APARTMENT_GROUP           NaN            NaN   \n",
      "80337  APARTMENT_GROUP  APARTMENT_GROUP           NaN            NaN   \n",
      "\n",
      "            province  postCode  habitableSurface buildingCondition  \\\n",
      "13          Brussels      1040               NaN               NaN   \n",
      "25          Brussels      1040               NaN               NaN   \n",
      "131         Brussels      1040               NaN               NaN   \n",
      "296         Brussels      1020               NaN               NaN   \n",
      "302         Brussels      1020               NaN               NaN   \n",
      "...              ...       ...               ...               ...   \n",
      "79935  East Flanders      9900               NaN               NaN   \n",
      "80243  East Flanders      9990               NaN               NaN   \n",
      "80255  East Flanders      9990               NaN               NaN   \n",
      "80273  East Flanders      9990               NaN               NaN   \n",
      "80337  East Flanders      9990               NaN               NaN   \n",
      "\n",
      "       facedeCount hasTerrace epcScore  price  \n",
      "13             NaN        NaN        A    NaN  \n",
      "25             NaN        NaN        C    NaN  \n",
      "131            NaN        NaN       A+    NaN  \n",
      "296            NaN        NaN        B    NaN  \n",
      "302            NaN        NaN        B    NaN  \n",
      "...            ...        ...      ...    ...  \n",
      "79935          NaN        NaN      NaN    NaN  \n",
      "80243          NaN        NaN      NaN    NaN  \n",
      "80255          NaN        NaN      NaN    NaN  \n",
      "80273          NaN        NaN      NaN    NaN  \n",
      "80337          NaN        NaN      NaN    NaN  \n",
      "\n",
      "[2425 rows x 12 columns]\n"
     ]
    }
   ],
   "source": [
    "df_filtered = df[df['type'] == 'APARTMENT_GROUP']\n",
    "print(df_filtered.shape)\n",
    "print(df_filtered)"
   ]
  },
  {
   "cell_type": "code",
   "execution_count": 10,
   "id": "e59e1c44",
   "metadata": {},
   "outputs": [
    {
     "name": "stdout",
     "output_type": "stream",
     "text": [
      "(76378, 12)\n"
     ]
    }
   ],
   "source": [
    "# Delete row for house_group and apartment_group\n",
    "df = df[~df['type'].isin(['HOUSE_GROUP', 'APARTMENT_GROUP'])]\n",
    "print(df.shape)"
   ]
  },
  {
   "cell_type": "code",
   "execution_count": 11,
   "id": "73aa1987",
   "metadata": {},
   "outputs": [],
   "source": [
    "df_appart = df[df['type'] == 'APARTMENT']\n",
    "df_house = df[df['type'] == 'HOUSE']"
   ]
  },
  {
   "cell_type": "code",
   "execution_count": 12,
   "id": "ea11c457",
   "metadata": {},
   "outputs": [
    {
     "name": "stdout",
     "output_type": "stream",
     "text": [
      "0    2.0\n",
      "Name: facedeCount, dtype: float64\n",
      "0    4.0\n",
      "Name: facedeCount, dtype: float64\n"
     ]
    }
   ],
   "source": [
    "print(df_appart['facedeCount'].mode())\n",
    "print(df_house['facedeCount'].mode())"
   ]
  },
  {
   "cell_type": "code",
   "execution_count": 13,
   "id": "3bf413f3",
   "metadata": {},
   "outputs": [
    {
     "name": "stdout",
     "output_type": "stream",
     "text": [
      "            type      subtype  bedroomCount  bathroomCount         province  \\\n",
      "0      APARTMENT    APARTMENT           2.0            1.0         Brussels   \n",
      "1          HOUSE        HOUSE           4.0            2.0         Brussels   \n",
      "2      APARTMENT    APARTMENT           2.0            1.0         Brussels   \n",
      "3      APARTMENT    APARTMENT           2.0            2.0         Brussels   \n",
      "4      APARTMENT  FLAT_STUDIO           1.0            1.0         Brussels   \n",
      "...          ...          ...           ...            ...              ...   \n",
      "80363      HOUSE        VILLA           3.0            1.0          Antwerp   \n",
      "80364  APARTMENT    APARTMENT           3.0            1.0         Brussels   \n",
      "80365  APARTMENT    APARTMENT           3.0            1.0  Flemish Brabant   \n",
      "80366  APARTMENT    APARTMENT           3.0            2.0    West Flanders   \n",
      "80367  APARTMENT    APARTMENT           3.0            2.0          Antwerp   \n",
      "\n",
      "       postCode  habitableSurface buildingCondition  facedeCount hasTerrace  \\\n",
      "0          1040             100.0              GOOD          1.0       True   \n",
      "1          1040             270.0     TO_BE_DONE_UP          2.0       True   \n",
      "2          1040              87.0            AS_NEW          2.0       True   \n",
      "3          1040             104.0            AS_NEW          2.0       True   \n",
      "4          1040              71.0            AS_NEW          2.0        NaN   \n",
      "...         ...               ...               ...          ...        ...   \n",
      "80363      2830             252.0            AS_NEW          4.0       True   \n",
      "80364      1090              94.0              GOOD          4.0       True   \n",
      "80365      1853             113.0              GOOD          2.0       True   \n",
      "80366      8434             111.0    JUST_RENOVATED          2.0       True   \n",
      "80367      2610             132.0              GOOD          2.0       True   \n",
      "\n",
      "      epcScore     price  \n",
      "0            C  399000.0  \n",
      "1            E  895000.0  \n",
      "2            F  465000.0  \n",
      "3            B  590000.0  \n",
      "4            E  289000.0  \n",
      "...        ...       ...  \n",
      "80363        B  849000.0  \n",
      "80364        D  279000.0  \n",
      "80365        B  299000.0  \n",
      "80366        A  325000.0  \n",
      "80367        B  340000.0  \n",
      "\n",
      "[76378 rows x 12 columns]\n"
     ]
    }
   ],
   "source": [
    "#Replace by Mode value for NaN facadecount \n",
    "df['facedeCount'] = df['facedeCount'].fillna(df['facedeCount'].mode()[0])\n",
    "print(df)"
   ]
  },
  {
   "cell_type": "code",
   "execution_count": 14,
   "id": "1a306255",
   "metadata": {},
   "outputs": [
    {
     "name": "stdout",
     "output_type": "stream",
     "text": [
      "0    GOOD\n",
      "Name: buildingCondition, dtype: object\n",
      "0    GOOD\n",
      "Name: buildingCondition, dtype: object\n"
     ]
    }
   ],
   "source": [
    "print(df_appart['buildingCondition'].mode())\n",
    "print(df_house['buildingCondition'].mode())"
   ]
  },
  {
   "cell_type": "code",
   "execution_count": 15,
   "id": "859a7a5d",
   "metadata": {},
   "outputs": [
    {
     "name": "stdout",
     "output_type": "stream",
     "text": [
      "            type      subtype  bedroomCount  bathroomCount         province  \\\n",
      "0      APARTMENT    APARTMENT           2.0            1.0         Brussels   \n",
      "1          HOUSE        HOUSE           4.0            2.0         Brussels   \n",
      "2      APARTMENT    APARTMENT           2.0            1.0         Brussels   \n",
      "3      APARTMENT    APARTMENT           2.0            2.0         Brussels   \n",
      "4      APARTMENT  FLAT_STUDIO           1.0            1.0         Brussels   \n",
      "...          ...          ...           ...            ...              ...   \n",
      "80363      HOUSE        VILLA           3.0            1.0          Antwerp   \n",
      "80364  APARTMENT    APARTMENT           3.0            1.0         Brussels   \n",
      "80365  APARTMENT    APARTMENT           3.0            1.0  Flemish Brabant   \n",
      "80366  APARTMENT    APARTMENT           3.0            2.0    West Flanders   \n",
      "80367  APARTMENT    APARTMENT           3.0            2.0          Antwerp   \n",
      "\n",
      "       postCode  habitableSurface buildingCondition  facedeCount hasTerrace  \\\n",
      "0          1040             100.0              GOOD          1.0       True   \n",
      "1          1040             270.0     TO_BE_DONE_UP          2.0       True   \n",
      "2          1040              87.0            AS_NEW          2.0       True   \n",
      "3          1040             104.0            AS_NEW          2.0       True   \n",
      "4          1040              71.0            AS_NEW          2.0        NaN   \n",
      "...         ...               ...               ...          ...        ...   \n",
      "80363      2830             252.0            AS_NEW          4.0       True   \n",
      "80364      1090              94.0              GOOD          4.0       True   \n",
      "80365      1853             113.0              GOOD          2.0       True   \n",
      "80366      8434             111.0    JUST_RENOVATED          2.0       True   \n",
      "80367      2610             132.0              GOOD          2.0       True   \n",
      "\n",
      "      epcScore     price  \n",
      "0            C  399000.0  \n",
      "1            E  895000.0  \n",
      "2            F  465000.0  \n",
      "3            B  590000.0  \n",
      "4            E  289000.0  \n",
      "...        ...       ...  \n",
      "80363        B  849000.0  \n",
      "80364        D  279000.0  \n",
      "80365        B  299000.0  \n",
      "80366        A  325000.0  \n",
      "80367        B  340000.0  \n",
      "\n",
      "[76378 rows x 12 columns]\n"
     ]
    }
   ],
   "source": [
    "#Replace by Mode value for NaN BuildingCondition\n",
    "df['buildingCondition'] = df['buildingCondition'].fillna(df['buildingCondition'].mode()[0])\n",
    "print(df)"
   ]
  },
  {
   "cell_type": "code",
   "execution_count": 16,
   "id": "a9c1b6f6",
   "metadata": {},
   "outputs": [
    {
     "name": "stdout",
     "output_type": "stream",
     "text": [
      "0    B\n",
      "Name: epcScore, dtype: object\n",
      "0    F\n",
      "Name: epcScore, dtype: object\n"
     ]
    }
   ],
   "source": [
    "print(df_appart['epcScore'].mode())\n",
    "print(df_house['epcScore'].mode())"
   ]
  },
  {
   "cell_type": "code",
   "execution_count": 17,
   "id": "ebb09734",
   "metadata": {},
   "outputs": [
    {
     "name": "stdout",
     "output_type": "stream",
     "text": [
      "            type      subtype  bedroomCount  bathroomCount         province  \\\n",
      "0      APARTMENT    APARTMENT           2.0            1.0         Brussels   \n",
      "1          HOUSE        HOUSE           4.0            2.0         Brussels   \n",
      "2      APARTMENT    APARTMENT           2.0            1.0         Brussels   \n",
      "3      APARTMENT    APARTMENT           2.0            2.0         Brussels   \n",
      "4      APARTMENT  FLAT_STUDIO           1.0            1.0         Brussels   \n",
      "...          ...          ...           ...            ...              ...   \n",
      "80363      HOUSE        VILLA           3.0            1.0          Antwerp   \n",
      "80364  APARTMENT    APARTMENT           3.0            1.0         Brussels   \n",
      "80365  APARTMENT    APARTMENT           3.0            1.0  Flemish Brabant   \n",
      "80366  APARTMENT    APARTMENT           3.0            2.0    West Flanders   \n",
      "80367  APARTMENT    APARTMENT           3.0            2.0          Antwerp   \n",
      "\n",
      "       postCode  habitableSurface buildingCondition  facedeCount hasTerrace  \\\n",
      "0          1040             100.0              GOOD          1.0       True   \n",
      "1          1040             270.0     TO_BE_DONE_UP          2.0       True   \n",
      "2          1040              87.0            AS_NEW          2.0       True   \n",
      "3          1040             104.0            AS_NEW          2.0       True   \n",
      "4          1040              71.0            AS_NEW          2.0        NaN   \n",
      "...         ...               ...               ...          ...        ...   \n",
      "80363      2830             252.0            AS_NEW          4.0       True   \n",
      "80364      1090              94.0              GOOD          4.0       True   \n",
      "80365      1853             113.0              GOOD          2.0       True   \n",
      "80366      8434             111.0    JUST_RENOVATED          2.0       True   \n",
      "80367      2610             132.0              GOOD          2.0       True   \n",
      "\n",
      "      epcScore     price  \n",
      "0            C  399000.0  \n",
      "1            E  895000.0  \n",
      "2            F  465000.0  \n",
      "3            B  590000.0  \n",
      "4            E  289000.0  \n",
      "...        ...       ...  \n",
      "80363        B  849000.0  \n",
      "80364        D  279000.0  \n",
      "80365        B  299000.0  \n",
      "80366        A  325000.0  \n",
      "80367        B  340000.0  \n",
      "\n",
      "[76378 rows x 12 columns]\n"
     ]
    }
   ],
   "source": [
    "df.loc[(df['type'] == 'APARTMENT') & (df['epcScore'].isna()), 'epcScore'] = 'B'\n",
    "df.loc[(df['type'] == 'HOUSE') & (df['epcScore'].isna()), 'epcScore'] = 'F'\n",
    "print(df)\n"
   ]
  },
  {
   "cell_type": "code",
   "execution_count": 18,
   "id": "1ae8d073",
   "metadata": {},
   "outputs": [
    {
     "name": "stdout",
     "output_type": "stream",
     "text": [
      "104.02\n",
      "0    90.0\n",
      "Name: habitableSurface, dtype: float64\n",
      "91.0\n",
      "10.0\n",
      "65000.0\n"
     ]
    }
   ],
   "source": [
    "print((df_appart['habitableSurface'].mean()).round(2))\n",
    "print(df_appart['habitableSurface'].mode())\n",
    "print(df_appart['habitableSurface'].median())\n",
    "print(df_appart['habitableSurface'].min())\n",
    "print(df_appart['habitableSurface'].max())"
   ]
  },
  {
   "cell_type": "code",
   "execution_count": 19,
   "id": "0962417c",
   "metadata": {},
   "outputs": [
    {
     "name": "stdout",
     "output_type": "stream",
     "text": [
      "233.45\n",
      "0    150.0\n",
      "Name: habitableSurface, dtype: float64\n",
      "182.0\n",
      "6.0\n",
      "185347.0\n"
     ]
    }
   ],
   "source": [
    "\n",
    "print((df_house['habitableSurface'].mean()).round(2))\n",
    "print(df_house['habitableSurface'].mode())\n",
    "print(df_house['habitableSurface'].median())\n",
    "print(df_house['habitableSurface'].min())\n",
    "print(df_house['habitableSurface'].max())"
   ]
  },
  {
   "cell_type": "code",
   "execution_count": 20,
   "id": "6f56929b",
   "metadata": {},
   "outputs": [
    {
     "name": "stdout",
     "output_type": "stream",
     "text": [
      "            type      subtype  bedroomCount  bathroomCount         province  \\\n",
      "0      APARTMENT    APARTMENT           2.0            1.0         Brussels   \n",
      "1          HOUSE        HOUSE           4.0            2.0         Brussels   \n",
      "2      APARTMENT    APARTMENT           2.0            1.0         Brussels   \n",
      "3      APARTMENT    APARTMENT           2.0            2.0         Brussels   \n",
      "4      APARTMENT  FLAT_STUDIO           1.0            1.0         Brussels   \n",
      "...          ...          ...           ...            ...              ...   \n",
      "80363      HOUSE        VILLA           3.0            1.0          Antwerp   \n",
      "80364  APARTMENT    APARTMENT           3.0            1.0         Brussels   \n",
      "80365  APARTMENT    APARTMENT           3.0            1.0  Flemish Brabant   \n",
      "80366  APARTMENT    APARTMENT           3.0            2.0    West Flanders   \n",
      "80367  APARTMENT    APARTMENT           3.0            2.0          Antwerp   \n",
      "\n",
      "       postCode  habitableSurface buildingCondition  facedeCount hasTerrace  \\\n",
      "0          1040             100.0              GOOD          1.0       True   \n",
      "1          1040             270.0     TO_BE_DONE_UP          2.0       True   \n",
      "2          1040              87.0            AS_NEW          2.0       True   \n",
      "3          1040             104.0            AS_NEW          2.0       True   \n",
      "4          1040              71.0            AS_NEW          2.0        NaN   \n",
      "...         ...               ...               ...          ...        ...   \n",
      "80363      2830             252.0            AS_NEW          4.0       True   \n",
      "80364      1090              94.0              GOOD          4.0       True   \n",
      "80365      1853             113.0              GOOD          2.0       True   \n",
      "80366      8434             111.0    JUST_RENOVATED          2.0       True   \n",
      "80367      2610             132.0              GOOD          2.0       True   \n",
      "\n",
      "      epcScore     price  \n",
      "0            C  399000.0  \n",
      "1            E  895000.0  \n",
      "2            F  465000.0  \n",
      "3            B  590000.0  \n",
      "4            E  289000.0  \n",
      "...        ...       ...  \n",
      "80363        B  849000.0  \n",
      "80364        D  279000.0  \n",
      "80365        B  299000.0  \n",
      "80366        A  325000.0  \n",
      "80367        B  340000.0  \n",
      "\n",
      "[76378 rows x 12 columns]\n"
     ]
    }
   ],
   "source": [
    "#Replace missing value NaN by median for habitableSurface\n",
    "df.loc[(df['type'] == 'APARTMENT') & (df['habitableSurface'].isna()), 'habitableSurface'] = 91.0\n",
    "df.loc[(df['type'] == 'HOUSE') & (df['habitableSurface'].isna()), 'habitableSurface'] = 182.0\n",
    "print(df)"
   ]
  },
  {
   "cell_type": "code",
   "execution_count": 21,
   "id": "df48d6df",
   "metadata": {},
   "outputs": [
    {
     "name": "stdout",
     "output_type": "stream",
     "text": [
      "type                  0.00\n",
      "subtype               0.00\n",
      "bedroomCount          3.69\n",
      "bathroomCount        12.71\n",
      "province              0.00\n",
      "postCode              0.00\n",
      "habitableSurface      0.00\n",
      "buildingCondition     0.00\n",
      "facedeCount           0.00\n",
      "hasTerrace           37.90\n",
      "epcScore              0.00\n",
      "price                 0.01\n",
      "dtype: float64\n"
     ]
    }
   ],
   "source": [
    "na_values = df.isnull().sum()\n",
    "missing_percent = (na_values/ len(df)) * 100\n",
    "print (missing_percent.round(2))"
   ]
  },
  {
   "cell_type": "code",
   "execution_count": 22,
   "id": "28ace1ab",
   "metadata": {},
   "outputs": [
    {
     "name": "stdout",
     "output_type": "stream",
     "text": [
      "            type      subtype  bedroomCount  bathroomCount         province  \\\n",
      "0      APARTMENT    APARTMENT           2.0            1.0         Brussels   \n",
      "1          HOUSE        HOUSE           4.0            2.0         Brussels   \n",
      "2      APARTMENT    APARTMENT           2.0            1.0         Brussels   \n",
      "3      APARTMENT    APARTMENT           2.0            2.0         Brussels   \n",
      "4      APARTMENT  FLAT_STUDIO           1.0            1.0         Brussels   \n",
      "...          ...          ...           ...            ...              ...   \n",
      "80363      HOUSE        VILLA           3.0            1.0          Antwerp   \n",
      "80364  APARTMENT    APARTMENT           3.0            1.0         Brussels   \n",
      "80365  APARTMENT    APARTMENT           3.0            1.0  Flemish Brabant   \n",
      "80366  APARTMENT    APARTMENT           3.0            2.0    West Flanders   \n",
      "80367  APARTMENT    APARTMENT           3.0            2.0          Antwerp   \n",
      "\n",
      "       postCode  habitableSurface buildingCondition  facedeCount hasTerrace  \\\n",
      "0          1040             100.0              GOOD          1.0       True   \n",
      "1          1040             270.0     TO_BE_DONE_UP          2.0       True   \n",
      "2          1040              87.0            AS_NEW          2.0       True   \n",
      "3          1040             104.0            AS_NEW          2.0       True   \n",
      "4          1040              71.0            AS_NEW          2.0          0   \n",
      "...         ...               ...               ...          ...        ...   \n",
      "80363      2830             252.0            AS_NEW          4.0       True   \n",
      "80364      1090              94.0              GOOD          4.0       True   \n",
      "80365      1853             113.0              GOOD          2.0       True   \n",
      "80366      8434             111.0    JUST_RENOVATED          2.0       True   \n",
      "80367      2610             132.0              GOOD          2.0       True   \n",
      "\n",
      "      epcScore     price  \n",
      "0            C  399000.0  \n",
      "1            E  895000.0  \n",
      "2            F  465000.0  \n",
      "3            B  590000.0  \n",
      "4            E  289000.0  \n",
      "...        ...       ...  \n",
      "80363        B  849000.0  \n",
      "80364        D  279000.0  \n",
      "80365        B  299000.0  \n",
      "80366        A  325000.0  \n",
      "80367        B  340000.0  \n",
      "\n",
      "[76378 rows x 12 columns]\n"
     ]
    }
   ],
   "source": [
    "# Replace NaN to 0 : \n",
    "df = df.fillna(0)\n",
    "\n",
    "print(df)"
   ]
  },
  {
   "cell_type": "code",
   "execution_count": 23,
   "id": "365bf4ac",
   "metadata": {},
   "outputs": [
    {
     "name": "stdout",
     "output_type": "stream",
     "text": [
      "            type      subtype  bedroomCount  bathroomCount         province  \\\n",
      "0      APARTMENT    APARTMENT           2.0            1.0         Brussels   \n",
      "1          HOUSE        HOUSE           4.0            2.0         Brussels   \n",
      "2      APARTMENT    APARTMENT           2.0            1.0         Brussels   \n",
      "3      APARTMENT    APARTMENT           2.0            2.0         Brussels   \n",
      "4      APARTMENT  FLAT_STUDIO           1.0            1.0         Brussels   \n",
      "...          ...          ...           ...            ...              ...   \n",
      "80363      HOUSE        VILLA           3.0            1.0          Antwerp   \n",
      "80364  APARTMENT    APARTMENT           3.0            1.0         Brussels   \n",
      "80365  APARTMENT    APARTMENT           3.0            1.0  Flemish Brabant   \n",
      "80366  APARTMENT    APARTMENT           3.0            2.0    West Flanders   \n",
      "80367  APARTMENT    APARTMENT           3.0            2.0          Antwerp   \n",
      "\n",
      "       postCode  habitableSurface buildingCondition  facedeCount  hasTerrace  \\\n",
      "0          1040             100.0              GOOD          1.0           1   \n",
      "1          1040             270.0     TO_BE_DONE_UP          2.0           1   \n",
      "2          1040              87.0            AS_NEW          2.0           1   \n",
      "3          1040             104.0            AS_NEW          2.0           1   \n",
      "4          1040              71.0            AS_NEW          2.0           0   \n",
      "...         ...               ...               ...          ...         ...   \n",
      "80363      2830             252.0            AS_NEW          4.0           1   \n",
      "80364      1090              94.0              GOOD          4.0           1   \n",
      "80365      1853             113.0              GOOD          2.0           1   \n",
      "80366      8434             111.0    JUST_RENOVATED          2.0           1   \n",
      "80367      2610             132.0              GOOD          2.0           1   \n",
      "\n",
      "      epcScore     price  \n",
      "0            C  399000.0  \n",
      "1            E  895000.0  \n",
      "2            F  465000.0  \n",
      "3            B  590000.0  \n",
      "4            E  289000.0  \n",
      "...        ...       ...  \n",
      "80363        B  849000.0  \n",
      "80364        D  279000.0  \n",
      "80365        B  299000.0  \n",
      "80366        A  325000.0  \n",
      "80367        B  340000.0  \n",
      "\n",
      "[76378 rows x 12 columns]\n"
     ]
    },
    {
     "name": "stderr",
     "output_type": "stream",
     "text": [
      "C:\\Users\\nattt\\AppData\\Local\\Temp\\ipykernel_27476\\1717690634.py:2: FutureWarning: Downcasting behavior in `replace` is deprecated and will be removed in a future version. To retain the old behavior, explicitly call `result.infer_objects(copy=False)`. To opt-in to the future behavior, set `pd.set_option('future.no_silent_downcasting', True)`\n",
      "  df = df.replace(True, 1)\n"
     ]
    }
   ],
   "source": [
    "#Replace \"True\" by 1\n",
    "df = df.replace(True, 1)\n",
    "print(df)"
   ]
  },
  {
   "cell_type": "code",
   "execution_count": 24,
   "id": "0a089a37",
   "metadata": {},
   "outputs": [
    {
     "name": "stdout",
     "output_type": "stream",
     "text": [
      "            type    subtype  bedroomCount  bathroomCount         province  \\\n",
      "3675       HOUSE      HOUSE           3.0            1.0         Brussels   \n",
      "14535      HOUSE      HOUSE           5.0            1.0  Walloon Brabant   \n",
      "15701      HOUSE      HOUSE           4.0            2.0  Walloon Brabant   \n",
      "24191      HOUSE      HOUSE           3.0            1.0          Antwerp   \n",
      "42798  APARTMENT  APARTMENT           1.0            0.0            Liège   \n",
      "47140      HOUSE      HOUSE           3.0            1.0            Namur   \n",
      "61224  APARTMENT  APARTMENT           2.0            1.0    West Flanders   \n",
      "75452      HOUSE      HOUSE           2.0            1.0    East Flanders   \n",
      "\n",
      "       postCode  habitableSurface buildingCondition  facedeCount  hasTerrace  \\\n",
      "3675       1080             182.0              GOOD          2.0           0   \n",
      "14535      1310             212.0              GOOD          2.0           1   \n",
      "15701      1370             225.0              GOOD          4.0           1   \n",
      "24191      2275             182.0              GOOD          4.0           0   \n",
      "42798      4500              40.0              GOOD          2.0           0   \n",
      "47140      5540             182.0       TO_RENOVATE          3.0           0   \n",
      "61224      8400              91.0            AS_NEW          2.0           0   \n",
      "75452      9420             182.0              GOOD          2.0           0   \n",
      "\n",
      "      epcScore  price  \n",
      "3675         G    0.0  \n",
      "14535        B    0.0  \n",
      "15701        D    0.0  \n",
      "24191        F    0.0  \n",
      "42798        F    0.0  \n",
      "47140        F    0.0  \n",
      "61224        A    0.0  \n",
      "75452        F    0.0  \n"
     ]
    },
    {
     "data": {
      "text/plain": [
       "(8, 12)"
      ]
     },
     "execution_count": 24,
     "metadata": {},
     "output_type": "execute_result"
    }
   ],
   "source": [
    "df_zero_price = df[df['price'] == 0]\n",
    "print(df_zero_price)\n",
    "df_zero_price.shape"
   ]
  },
  {
   "cell_type": "code",
   "execution_count": 25,
   "id": "ea70f8c3",
   "metadata": {},
   "outputs": [
    {
     "name": "stdout",
     "output_type": "stream",
     "text": [
      "(76370, 12)\n"
     ]
    }
   ],
   "source": [
    "#Remove all row with pricing == 0. \n",
    "df = df[df['price'] != 0]\n",
    "print(df.shape)"
   ]
  },
  {
   "cell_type": "code",
   "execution_count": 26,
   "id": "2cc26203",
   "metadata": {},
   "outputs": [
    {
     "name": "stdout",
     "output_type": "stream",
     "text": [
      "type                 0.0\n",
      "subtype              0.0\n",
      "bedroomCount         0.0\n",
      "bathroomCount        0.0\n",
      "province             0.0\n",
      "postCode             0.0\n",
      "habitableSurface     0.0\n",
      "buildingCondition    0.0\n",
      "facedeCount          0.0\n",
      "hasTerrace           0.0\n",
      "epcScore             0.0\n",
      "price                0.0\n",
      "dtype: float64\n"
     ]
    }
   ],
   "source": [
    "na_values = df.isnull().sum()\n",
    "missing_percent = (na_values/ len(df)) * 100\n",
    "print (missing_percent.round(2))"
   ]
  },
  {
   "cell_type": "code",
   "execution_count": 27,
   "id": "a9a89875",
   "metadata": {},
   "outputs": [
    {
     "data": {
      "text/plain": [
       "Index(['type', 'subtype', 'bedroomCount', 'bathroomCount', 'province',\n",
       "       'postCode', 'habitableSurface', 'buildingCondition', 'facedeCount',\n",
       "       'hasTerrace', 'epcScore', 'price', 'price_per_m2'],\n",
       "      dtype='object')"
      ]
     },
     "execution_count": 27,
     "metadata": {},
     "output_type": "execute_result"
    }
   ],
   "source": [
    "#Add a columns with price/m2\n",
    "df['price_per_m2'] = df['price'] / df['habitableSurface']\n",
    "df['price_per_m2'] = df['price_per_m2'].round(2)\n",
    "df.columns"
   ]
  },
  {
   "cell_type": "code",
   "execution_count": 28,
   "id": "cbefa6aa",
   "metadata": {},
   "outputs": [
    {
     "data": {
      "text/plain": [
       "type                  object\n",
       "subtype               object\n",
       "bedroomCount         float64\n",
       "bathroomCount        float64\n",
       "province              object\n",
       "postCode               int64\n",
       "habitableSurface     float64\n",
       "buildingCondition     object\n",
       "facedeCount          float64\n",
       "hasTerrace             int64\n",
       "epcScore              object\n",
       "price                float64\n",
       "price_per_m2         float64\n",
       "dtype: object"
      ]
     },
     "execution_count": 28,
     "metadata": {},
     "output_type": "execute_result"
    }
   ],
   "source": [
    "df.dtypes"
   ]
  },
  {
   "cell_type": "code",
   "execution_count": 29,
   "id": "e1b17a3f",
   "metadata": {},
   "outputs": [
    {
     "data": {
      "application/vnd.microsoft.datawrangler.viewer.v0+json": {
       "columns": [
        {
         "name": "index",
         "rawType": "int64",
         "type": "integer"
        },
        {
         "name": "type",
         "rawType": "object",
         "type": "string"
        },
        {
         "name": "subtype",
         "rawType": "object",
         "type": "string"
        },
        {
         "name": "bedroomCount",
         "rawType": "float64",
         "type": "float"
        },
        {
         "name": "bathroomCount",
         "rawType": "float64",
         "type": "float"
        },
        {
         "name": "province",
         "rawType": "object",
         "type": "string"
        },
        {
         "name": "postCode",
         "rawType": "int64",
         "type": "integer"
        },
        {
         "name": "habitableSurface",
         "rawType": "float64",
         "type": "float"
        },
        {
         "name": "buildingCondition",
         "rawType": "object",
         "type": "string"
        },
        {
         "name": "facedeCount",
         "rawType": "float64",
         "type": "float"
        },
        {
         "name": "hasTerrace",
         "rawType": "int64",
         "type": "integer"
        },
        {
         "name": "epcScore",
         "rawType": "object",
         "type": "string"
        },
        {
         "name": "price",
         "rawType": "float64",
         "type": "float"
        },
        {
         "name": "price_per_m2",
         "rawType": "float64",
         "type": "float"
        }
       ],
       "conversionMethod": "pd.DataFrame",
       "ref": "ec428f42-243e-4dc0-b077-f034b5a78f9a",
       "rows": [
        [
         "0",
         "APARTMENT",
         "APARTMENT",
         "2.0",
         "1.0",
         "Brussels",
         "1040",
         "100.0",
         "GOOD",
         "1.0",
         "1",
         "C",
         "399000.0",
         "3990.0"
        ],
        [
         "1",
         "HOUSE",
         "HOUSE",
         "4.0",
         "2.0",
         "Brussels",
         "1040",
         "270.0",
         "TO_BE_DONE_UP",
         "2.0",
         "1",
         "E",
         "895000.0",
         "3314.81"
        ],
        [
         "2",
         "APARTMENT",
         "APARTMENT",
         "2.0",
         "1.0",
         "Brussels",
         "1040",
         "87.0",
         "AS_NEW",
         "2.0",
         "1",
         "F",
         "465000.0",
         "5344.83"
        ],
        [
         "3",
         "APARTMENT",
         "APARTMENT",
         "2.0",
         "2.0",
         "Brussels",
         "1040",
         "104.0",
         "AS_NEW",
         "2.0",
         "1",
         "B",
         "590000.0",
         "5673.08"
        ],
        [
         "4",
         "APARTMENT",
         "FLAT_STUDIO",
         "1.0",
         "1.0",
         "Brussels",
         "1040",
         "71.0",
         "AS_NEW",
         "2.0",
         "0",
         "E",
         "289000.0",
         "4070.42"
        ],
        [
         "5",
         "APARTMENT",
         "APARTMENT",
         "2.0",
         "1.0",
         "Brussels",
         "1040",
         "90.0",
         "TO_BE_DONE_UP",
         "2.0",
         "1",
         "D",
         "375000.0",
         "4166.67"
        ],
        [
         "6",
         "APARTMENT",
         "DUPLEX",
         "3.0",
         "2.0",
         "Brussels",
         "1040",
         "220.0",
         "JUST_RENOVATED",
         "2.0",
         "1",
         "D",
         "950000.0",
         "4318.18"
        ],
        [
         "7",
         "APARTMENT",
         "DUPLEX",
         "3.0",
         "2.0",
         "Brussels",
         "1040",
         "220.0",
         "JUST_RENOVATED",
         "2.0",
         "1",
         "D",
         "950000.0",
         "4318.18"
        ],
        [
         "8",
         "APARTMENT",
         "DUPLEX",
         "2.0",
         "1.0",
         "Brussels",
         "1040",
         "187.0",
         "AS_NEW",
         "2.0",
         "1",
         "C",
         "795000.0",
         "4251.34"
        ],
        [
         "9",
         "APARTMENT",
         "APARTMENT",
         "1.0",
         "1.0",
         "Brussels",
         "1040",
         "93.0",
         "TO_BE_DONE_UP",
         "2.0",
         "1",
         "F",
         "297000.0",
         "3193.55"
        ]
       ],
       "shape": {
        "columns": 13,
        "rows": 10
       }
      },
      "text/html": [
       "<div>\n",
       "<style scoped>\n",
       "    .dataframe tbody tr th:only-of-type {\n",
       "        vertical-align: middle;\n",
       "    }\n",
       "\n",
       "    .dataframe tbody tr th {\n",
       "        vertical-align: top;\n",
       "    }\n",
       "\n",
       "    .dataframe thead th {\n",
       "        text-align: right;\n",
       "    }\n",
       "</style>\n",
       "<table border=\"1\" class=\"dataframe\">\n",
       "  <thead>\n",
       "    <tr style=\"text-align: right;\">\n",
       "      <th></th>\n",
       "      <th>type</th>\n",
       "      <th>subtype</th>\n",
       "      <th>bedroomCount</th>\n",
       "      <th>bathroomCount</th>\n",
       "      <th>province</th>\n",
       "      <th>postCode</th>\n",
       "      <th>habitableSurface</th>\n",
       "      <th>buildingCondition</th>\n",
       "      <th>facedeCount</th>\n",
       "      <th>hasTerrace</th>\n",
       "      <th>epcScore</th>\n",
       "      <th>price</th>\n",
       "      <th>price_per_m2</th>\n",
       "    </tr>\n",
       "  </thead>\n",
       "  <tbody>\n",
       "    <tr>\n",
       "      <th>0</th>\n",
       "      <td>APARTMENT</td>\n",
       "      <td>APARTMENT</td>\n",
       "      <td>2.0</td>\n",
       "      <td>1.0</td>\n",
       "      <td>Brussels</td>\n",
       "      <td>1040</td>\n",
       "      <td>100.0</td>\n",
       "      <td>GOOD</td>\n",
       "      <td>1.0</td>\n",
       "      <td>1</td>\n",
       "      <td>C</td>\n",
       "      <td>399000.0</td>\n",
       "      <td>3990.00</td>\n",
       "    </tr>\n",
       "    <tr>\n",
       "      <th>1</th>\n",
       "      <td>HOUSE</td>\n",
       "      <td>HOUSE</td>\n",
       "      <td>4.0</td>\n",
       "      <td>2.0</td>\n",
       "      <td>Brussels</td>\n",
       "      <td>1040</td>\n",
       "      <td>270.0</td>\n",
       "      <td>TO_BE_DONE_UP</td>\n",
       "      <td>2.0</td>\n",
       "      <td>1</td>\n",
       "      <td>E</td>\n",
       "      <td>895000.0</td>\n",
       "      <td>3314.81</td>\n",
       "    </tr>\n",
       "    <tr>\n",
       "      <th>2</th>\n",
       "      <td>APARTMENT</td>\n",
       "      <td>APARTMENT</td>\n",
       "      <td>2.0</td>\n",
       "      <td>1.0</td>\n",
       "      <td>Brussels</td>\n",
       "      <td>1040</td>\n",
       "      <td>87.0</td>\n",
       "      <td>AS_NEW</td>\n",
       "      <td>2.0</td>\n",
       "      <td>1</td>\n",
       "      <td>F</td>\n",
       "      <td>465000.0</td>\n",
       "      <td>5344.83</td>\n",
       "    </tr>\n",
       "    <tr>\n",
       "      <th>3</th>\n",
       "      <td>APARTMENT</td>\n",
       "      <td>APARTMENT</td>\n",
       "      <td>2.0</td>\n",
       "      <td>2.0</td>\n",
       "      <td>Brussels</td>\n",
       "      <td>1040</td>\n",
       "      <td>104.0</td>\n",
       "      <td>AS_NEW</td>\n",
       "      <td>2.0</td>\n",
       "      <td>1</td>\n",
       "      <td>B</td>\n",
       "      <td>590000.0</td>\n",
       "      <td>5673.08</td>\n",
       "    </tr>\n",
       "    <tr>\n",
       "      <th>4</th>\n",
       "      <td>APARTMENT</td>\n",
       "      <td>FLAT_STUDIO</td>\n",
       "      <td>1.0</td>\n",
       "      <td>1.0</td>\n",
       "      <td>Brussels</td>\n",
       "      <td>1040</td>\n",
       "      <td>71.0</td>\n",
       "      <td>AS_NEW</td>\n",
       "      <td>2.0</td>\n",
       "      <td>0</td>\n",
       "      <td>E</td>\n",
       "      <td>289000.0</td>\n",
       "      <td>4070.42</td>\n",
       "    </tr>\n",
       "    <tr>\n",
       "      <th>5</th>\n",
       "      <td>APARTMENT</td>\n",
       "      <td>APARTMENT</td>\n",
       "      <td>2.0</td>\n",
       "      <td>1.0</td>\n",
       "      <td>Brussels</td>\n",
       "      <td>1040</td>\n",
       "      <td>90.0</td>\n",
       "      <td>TO_BE_DONE_UP</td>\n",
       "      <td>2.0</td>\n",
       "      <td>1</td>\n",
       "      <td>D</td>\n",
       "      <td>375000.0</td>\n",
       "      <td>4166.67</td>\n",
       "    </tr>\n",
       "    <tr>\n",
       "      <th>6</th>\n",
       "      <td>APARTMENT</td>\n",
       "      <td>DUPLEX</td>\n",
       "      <td>3.0</td>\n",
       "      <td>2.0</td>\n",
       "      <td>Brussels</td>\n",
       "      <td>1040</td>\n",
       "      <td>220.0</td>\n",
       "      <td>JUST_RENOVATED</td>\n",
       "      <td>2.0</td>\n",
       "      <td>1</td>\n",
       "      <td>D</td>\n",
       "      <td>950000.0</td>\n",
       "      <td>4318.18</td>\n",
       "    </tr>\n",
       "    <tr>\n",
       "      <th>7</th>\n",
       "      <td>APARTMENT</td>\n",
       "      <td>DUPLEX</td>\n",
       "      <td>3.0</td>\n",
       "      <td>2.0</td>\n",
       "      <td>Brussels</td>\n",
       "      <td>1040</td>\n",
       "      <td>220.0</td>\n",
       "      <td>JUST_RENOVATED</td>\n",
       "      <td>2.0</td>\n",
       "      <td>1</td>\n",
       "      <td>D</td>\n",
       "      <td>950000.0</td>\n",
       "      <td>4318.18</td>\n",
       "    </tr>\n",
       "    <tr>\n",
       "      <th>8</th>\n",
       "      <td>APARTMENT</td>\n",
       "      <td>DUPLEX</td>\n",
       "      <td>2.0</td>\n",
       "      <td>1.0</td>\n",
       "      <td>Brussels</td>\n",
       "      <td>1040</td>\n",
       "      <td>187.0</td>\n",
       "      <td>AS_NEW</td>\n",
       "      <td>2.0</td>\n",
       "      <td>1</td>\n",
       "      <td>C</td>\n",
       "      <td>795000.0</td>\n",
       "      <td>4251.34</td>\n",
       "    </tr>\n",
       "    <tr>\n",
       "      <th>9</th>\n",
       "      <td>APARTMENT</td>\n",
       "      <td>APARTMENT</td>\n",
       "      <td>1.0</td>\n",
       "      <td>1.0</td>\n",
       "      <td>Brussels</td>\n",
       "      <td>1040</td>\n",
       "      <td>93.0</td>\n",
       "      <td>TO_BE_DONE_UP</td>\n",
       "      <td>2.0</td>\n",
       "      <td>1</td>\n",
       "      <td>F</td>\n",
       "      <td>297000.0</td>\n",
       "      <td>3193.55</td>\n",
       "    </tr>\n",
       "  </tbody>\n",
       "</table>\n",
       "</div>"
      ],
      "text/plain": [
       "        type      subtype  bedroomCount  bathroomCount  province  postCode  \\\n",
       "0  APARTMENT    APARTMENT           2.0            1.0  Brussels      1040   \n",
       "1      HOUSE        HOUSE           4.0            2.0  Brussels      1040   \n",
       "2  APARTMENT    APARTMENT           2.0            1.0  Brussels      1040   \n",
       "3  APARTMENT    APARTMENT           2.0            2.0  Brussels      1040   \n",
       "4  APARTMENT  FLAT_STUDIO           1.0            1.0  Brussels      1040   \n",
       "5  APARTMENT    APARTMENT           2.0            1.0  Brussels      1040   \n",
       "6  APARTMENT       DUPLEX           3.0            2.0  Brussels      1040   \n",
       "7  APARTMENT       DUPLEX           3.0            2.0  Brussels      1040   \n",
       "8  APARTMENT       DUPLEX           2.0            1.0  Brussels      1040   \n",
       "9  APARTMENT    APARTMENT           1.0            1.0  Brussels      1040   \n",
       "\n",
       "   habitableSurface buildingCondition  facedeCount  hasTerrace epcScore  \\\n",
       "0             100.0              GOOD          1.0           1        C   \n",
       "1             270.0     TO_BE_DONE_UP          2.0           1        E   \n",
       "2              87.0            AS_NEW          2.0           1        F   \n",
       "3             104.0            AS_NEW          2.0           1        B   \n",
       "4              71.0            AS_NEW          2.0           0        E   \n",
       "5              90.0     TO_BE_DONE_UP          2.0           1        D   \n",
       "6             220.0    JUST_RENOVATED          2.0           1        D   \n",
       "7             220.0    JUST_RENOVATED          2.0           1        D   \n",
       "8             187.0            AS_NEW          2.0           1        C   \n",
       "9              93.0     TO_BE_DONE_UP          2.0           1        F   \n",
       "\n",
       "      price  price_per_m2  \n",
       "0  399000.0       3990.00  \n",
       "1  895000.0       3314.81  \n",
       "2  465000.0       5344.83  \n",
       "3  590000.0       5673.08  \n",
       "4  289000.0       4070.42  \n",
       "5  375000.0       4166.67  \n",
       "6  950000.0       4318.18  \n",
       "7  950000.0       4318.18  \n",
       "8  795000.0       4251.34  \n",
       "9  297000.0       3193.55  "
      ]
     },
     "execution_count": 29,
     "metadata": {},
     "output_type": "execute_result"
    }
   ],
   "source": [
    "df.head(10)"
   ]
  },
  {
   "cell_type": "code",
   "execution_count": 30,
   "id": "a9a78d9f",
   "metadata": {},
   "outputs": [],
   "source": [
    "df.to_csv(\"df_cleandata.csv\", index=False, encoding='utf-8')\n"
   ]
  },
  {
   "cell_type": "code",
   "execution_count": 31,
   "id": "58fddc29",
   "metadata": {},
   "outputs": [
    {
     "data": {
      "text/plain": [
       "(76370, 13)"
      ]
     },
     "execution_count": 31,
     "metadata": {},
     "output_type": "execute_result"
    }
   ],
   "source": [
    "df.shape"
   ]
  }
 ],
 "metadata": {
  "kernelspec": {
   "display_name": "Python 3",
   "language": "python",
   "name": "python3"
  },
  "language_info": {
   "codemirror_mode": {
    "name": "ipython",
    "version": 3
   },
   "file_extension": ".py",
   "mimetype": "text/x-python",
   "name": "python",
   "nbconvert_exporter": "python",
   "pygments_lexer": "ipython3",
   "version": "3.13.3"
  }
 },
 "nbformat": 4,
 "nbformat_minor": 5
}
