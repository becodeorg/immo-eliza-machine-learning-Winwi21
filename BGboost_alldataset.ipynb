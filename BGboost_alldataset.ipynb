{
 "cells": [
  {
   "cell_type": "code",
   "execution_count": 1,
   "id": "d1261293",
   "metadata": {},
   "outputs": [],
   "source": [
    "import pandas as pd\n",
    "import numpy as np\n",
    "import seaborn as sns\n",
    "import matplotlib.pyplot as plt \n",
    "import matplotlib.ticker as ticker\n",
    "from sklearn.model_selection import train_test_split\n",
    "from sklearn.ensemble import GradientBoostingRegressor\n",
    "from sklearn.metrics import mean_squared_error, r2_score,mean_absolute_error\n",
    "from sklearn.compose import ColumnTransformer\n",
    "from sklearn.pipeline import Pipeline\n",
    "from sklearn.preprocessing import OneHotEncoder, StandardScaler"
   ]
  },
  {
   "cell_type": "code",
   "execution_count": 2,
   "id": "f0641045",
   "metadata": {},
   "outputs": [
    {
     "name": "stdout",
     "output_type": "stream",
     "text": [
      "            type      subtype  bedroomCount  bathroomCount         province  \\\n",
      "0      APARTMENT    APARTMENT           2.0            1.0         Brussels   \n",
      "1          HOUSE        HOUSE           4.0            2.0         Brussels   \n",
      "2      APARTMENT    APARTMENT           2.0            1.0         Brussels   \n",
      "3      APARTMENT    APARTMENT           2.0            2.0         Brussels   \n",
      "4      APARTMENT  FLAT_STUDIO           1.0            1.0         Brussels   \n",
      "...          ...          ...           ...            ...              ...   \n",
      "76365      HOUSE        VILLA           3.0            1.0          Antwerp   \n",
      "76366  APARTMENT    APARTMENT           3.0            1.0         Brussels   \n",
      "76367  APARTMENT    APARTMENT           3.0            1.0  Flemish Brabant   \n",
      "76368  APARTMENT    APARTMENT           3.0            2.0    West Flanders   \n",
      "76369  APARTMENT    APARTMENT           3.0            2.0          Antwerp   \n",
      "\n",
      "       postCode  habitableSurface buildingCondition  facedeCount  hasTerrace  \\\n",
      "0          1040             100.0              GOOD          1.0           1   \n",
      "1          1040             270.0     TO_BE_DONE_UP          2.0           1   \n",
      "2          1040              87.0            AS_NEW          2.0           1   \n",
      "3          1040             104.0            AS_NEW          2.0           1   \n",
      "4          1040              71.0            AS_NEW          2.0           0   \n",
      "...         ...               ...               ...          ...         ...   \n",
      "76365      2830             252.0            AS_NEW          4.0           1   \n",
      "76366      1090              94.0              GOOD          4.0           1   \n",
      "76367      1853             113.0              GOOD          2.0           1   \n",
      "76368      8434             111.0    JUST_RENOVATED          2.0           1   \n",
      "76369      2610             132.0              GOOD          2.0           1   \n",
      "\n",
      "      epcScore     price  price_per_m2  \n",
      "0            C  399000.0       3990.00  \n",
      "1            E  895000.0       3314.81  \n",
      "2            F  465000.0       5344.83  \n",
      "3            B  590000.0       5673.08  \n",
      "4            E  289000.0       4070.42  \n",
      "...        ...       ...           ...  \n",
      "76365        B  849000.0       3369.05  \n",
      "76366        D  279000.0       2968.09  \n",
      "76367        B  299000.0       2646.02  \n",
      "76368        A  325000.0       2927.93  \n",
      "76369        B  340000.0       2575.76  \n",
      "\n",
      "[76370 rows x 13 columns]\n"
     ]
    }
   ],
   "source": [
    "data = './data/df_cleandata.csv'\n",
    "df_data = pd.read_csv(data, sep = ',')\n",
    "df_data = pd.DataFrame(df_data)\n",
    "\n",
    "print(df_data)"
   ]
  },
  {
   "cell_type": "code",
   "execution_count": 3,
   "id": "4b47f5d5",
   "metadata": {},
   "outputs": [
    {
     "data": {
      "text/plain": [
       "Index(['type', 'subtype', 'bedroomCount', 'bathroomCount', 'province',\n",
       "       'postCode', 'habitableSurface', 'buildingCondition', 'facedeCount',\n",
       "       'hasTerrace', 'epcScore', 'price', 'price_per_m2'],\n",
       "      dtype='object')"
      ]
     },
     "execution_count": 3,
     "metadata": {},
     "output_type": "execute_result"
    }
   ],
   "source": [
    "df_data.columns"
   ]
  },
  {
   "cell_type": "code",
   "execution_count": 4,
   "id": "c1ee1338",
   "metadata": {},
   "outputs": [
    {
     "name": "stdout",
     "output_type": "stream",
     "text": [
      "(76370, 12)\n",
      "Index(['type', 'subtype', 'bedroomCount', 'bathroomCount', 'province',\n",
      "       'postCode', 'habitableSurface', 'buildingCondition', 'facedeCount',\n",
      "       'hasTerrace', 'epcScore', 'price'],\n",
      "      dtype='object')\n"
     ]
    }
   ],
   "source": [
    "# Remove price/m² columns\n",
    "df = df_data.drop(columns=['price_per_m2'])\n",
    "print(df.shape)\n",
    "print(df.columns)"
   ]
  },
  {
   "cell_type": "code",
   "execution_count": 5,
   "id": "edd7067a",
   "metadata": {},
   "outputs": [
    {
     "name": "stdout",
     "output_type": "stream",
     "text": [
      "   bedroomCount  bathroomCount  postCode  habitableSurface  facedeCount  \\\n",
      "0           2.0            1.0      1040             100.0          1.0   \n",
      "1           4.0            2.0      1040             270.0          2.0   \n",
      "2           2.0            1.0      1040              87.0          2.0   \n",
      "3           2.0            2.0      1040             104.0          2.0   \n",
      "4           1.0            1.0      1040              71.0          2.0   \n",
      "5           2.0            1.0      1040              90.0          2.0   \n",
      "6           3.0            2.0      1040             220.0          2.0   \n",
      "7           3.0            2.0      1040             220.0          2.0   \n",
      "8           2.0            1.0      1040             187.0          2.0   \n",
      "9           1.0            1.0      1040              93.0          2.0   \n",
      "\n",
      "   hasTerrace     price  type_HOUSE  province_Brussels  \\\n",
      "0           1  399000.0       False               True   \n",
      "1           1  895000.0        True               True   \n",
      "2           1  465000.0       False               True   \n",
      "3           1  590000.0       False               True   \n",
      "4           0  289000.0       False               True   \n",
      "5           1  375000.0       False               True   \n",
      "6           1  950000.0       False               True   \n",
      "7           1  950000.0       False               True   \n",
      "8           1  795000.0       False               True   \n",
      "9           1  297000.0       False               True   \n",
      "\n",
      "   province_East Flanders  ...  subtype_PENTHOUSE  subtype_SERVICE_FLAT  \\\n",
      "0                   False  ...              False                 False   \n",
      "1                   False  ...              False                 False   \n",
      "2                   False  ...              False                 False   \n",
      "3                   False  ...              False                 False   \n",
      "4                   False  ...              False                 False   \n",
      "5                   False  ...              False                 False   \n",
      "6                   False  ...              False                 False   \n",
      "7                   False  ...              False                 False   \n",
      "8                   False  ...              False                 False   \n",
      "9                   False  ...              False                 False   \n",
      "\n",
      "   subtype_TOWN_HOUSE  subtype_TRIPLEX  subtype_VILLA  buildingCondition_GOOD  \\\n",
      "0               False            False          False                    True   \n",
      "1               False            False          False                   False   \n",
      "2               False            False          False                   False   \n",
      "3               False            False          False                   False   \n",
      "4               False            False          False                   False   \n",
      "5               False            False          False                   False   \n",
      "6               False            False          False                   False   \n",
      "7               False            False          False                   False   \n",
      "8               False            False          False                   False   \n",
      "9               False            False          False                   False   \n",
      "\n",
      "   buildingCondition_JUST_RENOVATED  buildingCondition_TO_BE_DONE_UP  \\\n",
      "0                             False                            False   \n",
      "1                             False                             True   \n",
      "2                             False                            False   \n",
      "3                             False                            False   \n",
      "4                             False                            False   \n",
      "5                             False                             True   \n",
      "6                              True                            False   \n",
      "7                              True                            False   \n",
      "8                             False                            False   \n",
      "9                             False                             True   \n",
      "\n",
      "   buildingCondition_TO_RENOVATE  buildingCondition_TO_RESTORE  \n",
      "0                          False                         False  \n",
      "1                          False                         False  \n",
      "2                          False                         False  \n",
      "3                          False                         False  \n",
      "4                          False                         False  \n",
      "5                          False                         False  \n",
      "6                          False                         False  \n",
      "7                          False                         False  \n",
      "8                          False                         False  \n",
      "9                          False                         False  \n",
      "\n",
      "[10 rows x 65 columns]\n",
      "bedroomCount                        float64\n",
      "bathroomCount                       float64\n",
      "postCode                              int64\n",
      "habitableSurface                    float64\n",
      "facedeCount                         float64\n",
      "                                     ...   \n",
      "buildingCondition_GOOD                 bool\n",
      "buildingCondition_JUST_RENOVATED       bool\n",
      "buildingCondition_TO_BE_DONE_UP        bool\n",
      "buildingCondition_TO_RENOVATE          bool\n",
      "buildingCondition_TO_RESTORE           bool\n",
      "Length: 65, dtype: object\n"
     ]
    }
   ],
   "source": [
    "df= pd.get_dummies(df, columns=['type','province', 'epcScore','subtype','buildingCondition'], drop_first=True)\n",
    "print(df.head(10))\n",
    "print(df.dtypes)"
   ]
  },
  {
   "cell_type": "code",
   "execution_count": 13,
   "id": "ac1223b4",
   "metadata": {},
   "outputs": [],
   "source": [
    "# 1. Create model GradientBoostingRegressor\n",
    "\n",
    "model_gbr = GradientBoostingRegressor(n_estimators=2000,      \n",
    "                                      learning_rate=0.05,    \n",
    "                                      max_depth=4,           \n",
    "                                      random_state=42)\n",
    "\n",
    "# 2. Create Pipeline : \n",
    "pipeline = Pipeline(steps=[('regressor',model_gbr)])\n",
    "\n",
    "# 3. Prepare data for pipeline : \n",
    "X = df.drop('price', axis=1)\n",
    "y = df['price']\n",
    "\n",
    "#save the columns model for futures predictions\n",
    "model_columns = X.columns\n",
    "\n",
    "# 4. Test_split\n",
    "X_train, X_test, y_train, y_test = train_test_split(X, y, test_size=0.3, random_state=42)"
   ]
  },
  {
   "cell_type": "code",
   "execution_count": 14,
   "id": "b7b17f04",
   "metadata": {},
   "outputs": [
    {
     "name": "stdout",
     "output_type": "stream",
     "text": [
      "MAE: 111019.29\n",
      "RMSE: 276427.98\n",
      "R² score : 0.70\n"
     ]
    }
   ],
   "source": [
    "# 1. Train model GradientBoostingRegressor\n",
    "pipeline.fit(X_train, y_train)\n",
    "\n",
    "# 2. Prediction on xtest\n",
    "y_pred_gbr = pipeline.predict(X_test)\n",
    "\n",
    "# 3. Model evaluation\n",
    "mse = mean_squared_error(y_test, y_pred_gbr)\n",
    "MAE = mean_absolute_error(y_test, y_pred_gbr)\n",
    "r2 = r2_score(y_test, y_pred_gbr)\n",
    "\n",
    "print(f\"MAE: {MAE:.2f}\")\n",
    "print(f\"RMSE: {mse**0.5:.2f}\")\n",
    "print(f\"R² score : {r2:.2f}\")"
   ]
  },
  {
   "cell_type": "code",
   "execution_count": 15,
   "id": "e0b42148",
   "metadata": {},
   "outputs": [
    {
     "name": "stdout",
     "output_type": "stream",
     "text": [
      "mad price : 114900.00 €\n",
      "median price : 329900.00 €\n",
      "mean price : 447606.06 €\n"
     ]
    }
   ],
   "source": [
    "price = df['price']\n",
    "median_price = df['price'].median()\n",
    "mean_price = df['price'].mean()\n",
    "absolute_dev = np.abs(price - median_price)\n",
    "mad_price = np.median(absolute_dev)\n",
    "\n",
    "print(f\"mad price : {mad_price:.2f} €\")\n",
    "print(f\"median price : {median_price:.2f} €\")\n",
    "print(f\"mean price : {mean_price:.2f} €\")\n"
   ]
  },
  {
   "cell_type": "code",
   "execution_count": null,
   "id": "f46b44d4",
   "metadata": {},
   "outputs": [
    {
     "name": "stdout",
     "output_type": "stream",
     "text": [
      "min price: 3141.00€\n",
      "max price: 15000000.00€\n",
      "RMSE in range price : 1.83%\n",
      "RMSE in median price : 83.16%\n"
     ]
    }
   ],
   "source": [
    "min = df['price'].min()\n",
    "max = df['price'].max()\n",
    "\n",
    "#rmse = 276669.26 # n_estimators=1000, learning_rate=0.1, max_depth=3\n",
    "rmse = 274332.41 #n_estimators=1500, learning_rate=0.1, max_depth=5\n",
    "276427.98\n",
    "rmse_range = (rmse / (max - min)) * 100\n",
    "rmse_median = (rmse / median_price) * 100\n",
    "\n",
    "print(f\"min price: {min:.2f}€\")\n",
    "print(f\"max price: {max:.2f}€\")\n",
    "print(f\"RMSE in range price : {rmse_range:.2f}%\")\n",
    "print(f\"RMSE in median price : {rmse_median:.2f}%\")"
   ]
  },
  {
   "cell_type": "code",
   "execution_count": 22,
   "id": "94a85077",
   "metadata": {},
   "outputs": [
    {
     "name": "stdout",
     "output_type": "stream",
     "text": [
      "Ratio : -3.38%\n"
     ]
    }
   ],
   "source": [
    "# Compare MAE with standard deviation \n",
    "mad_price = 114900.00\n",
    "MAE = 111019.29\n",
    "\n",
    "Ratio = ((MAE-mad_price) / mad_price)*100\n",
    "print(f\"Ratio : {Ratio:.2f}%\")\n"
   ]
  }
 ],
 "metadata": {
  "kernelspec": {
   "display_name": "Python 3",
   "language": "python",
   "name": "python3"
  },
  "language_info": {
   "codemirror_mode": {
    "name": "ipython",
    "version": 3
   },
   "file_extension": ".py",
   "mimetype": "text/x-python",
   "name": "python",
   "nbconvert_exporter": "python",
   "pygments_lexer": "ipython3",
   "version": "3.13.3"
  }
 },
 "nbformat": 4,
 "nbformat_minor": 5
}
