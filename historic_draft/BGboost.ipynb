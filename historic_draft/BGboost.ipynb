{
 "cells": [
  {
   "cell_type": "code",
   "execution_count": 1,
   "id": "1d4f3ea2",
   "metadata": {},
   "outputs": [],
   "source": [
    "import pandas as pd\n",
    "import numpy as np\n",
    "import seaborn as sns\n",
    "import matplotlib.pyplot as plt \n",
    "import matplotlib.ticker as ticker\n",
    "from sklearn.model_selection import train_test_split\n",
    "from sklearn.ensemble import GradientBoostingRegressor\n",
    "from sklearn.metrics import mean_squared_error, r2_score,mean_absolute_error\n",
    "from sklearn.compose import ColumnTransformer\n",
    "from sklearn.pipeline import Pipeline\n",
    "from sklearn.preprocessing import OneHotEncoder, StandardScaler"
   ]
  },
  {
   "cell_type": "markdown",
   "id": "53e3ea1a",
   "metadata": {},
   "source": [
    "# 1.Price Prediction for Appartment"
   ]
  },
  {
   "cell_type": "code",
   "execution_count": 2,
   "id": "3927b0a8",
   "metadata": {},
   "outputs": [],
   "source": [
    "app = 'df_cleanappart.csv'\n",
    "df_appart= pd.read_csv(app, sep = ',')\n",
    "df = pd.DataFrame(df_appart)"
   ]
  },
  {
   "cell_type": "code",
   "execution_count": 3,
   "id": "52a8438a",
   "metadata": {},
   "outputs": [
    {
     "name": "stdout",
     "output_type": "stream",
     "text": [
      "   bedroomCount  bathroomCount  postCode  habitableSurface  facedeCount  \\\n",
      "0           2.0            1.0      1040             100.0          1.0   \n",
      "1           2.0            1.0      1040              87.0          2.0   \n",
      "2           2.0            2.0      1040             104.0          2.0   \n",
      "3           1.0            1.0      1040              71.0          2.0   \n",
      "4           2.0            1.0      1040              90.0          2.0   \n",
      "5           3.0            2.0      1040             220.0          2.0   \n",
      "6           3.0            2.0      1040             220.0          2.0   \n",
      "7           2.0            1.0      1040             187.0          2.0   \n",
      "8           1.0            1.0      1040              93.0          2.0   \n",
      "9           2.0            1.0      1040             120.0          2.0   \n",
      "\n",
      "   hasTerrace     price  price_per_m2  province_Brussels  \\\n",
      "0           1  399000.0       3990.00               True   \n",
      "1           1  465000.0       5344.83               True   \n",
      "2           1  590000.0       5673.08               True   \n",
      "3           0  289000.0       4070.42               True   \n",
      "4           1  375000.0       4166.67               True   \n",
      "5           1  950000.0       4318.18               True   \n",
      "6           1  950000.0       4318.18               True   \n",
      "7           1  795000.0       4251.34               True   \n",
      "8           1  297000.0       3193.55               True   \n",
      "9           1  435000.0       3625.00               True   \n",
      "\n",
      "   province_East Flanders  ...  subtype_KOT  subtype_LOFT  subtype_PENTHOUSE  \\\n",
      "0                   False  ...        False         False              False   \n",
      "1                   False  ...        False         False              False   \n",
      "2                   False  ...        False         False              False   \n",
      "3                   False  ...        False         False              False   \n",
      "4                   False  ...        False         False              False   \n",
      "5                   False  ...        False         False              False   \n",
      "6                   False  ...        False         False              False   \n",
      "7                   False  ...        False         False              False   \n",
      "8                   False  ...        False         False              False   \n",
      "9                   False  ...        False         False              False   \n",
      "\n",
      "   subtype_SERVICE_FLAT  subtype_TRIPLEX  buildingCondition_GOOD  \\\n",
      "0                 False            False                    True   \n",
      "1                 False            False                   False   \n",
      "2                 False            False                   False   \n",
      "3                 False            False                   False   \n",
      "4                 False            False                   False   \n",
      "5                 False            False                   False   \n",
      "6                 False            False                   False   \n",
      "7                 False            False                   False   \n",
      "8                 False            False                   False   \n",
      "9                 False            False                    True   \n",
      "\n",
      "   buildingCondition_JUST_RENOVATED  buildingCondition_TO_BE_DONE_UP  \\\n",
      "0                             False                            False   \n",
      "1                             False                            False   \n",
      "2                             False                            False   \n",
      "3                             False                            False   \n",
      "4                             False                             True   \n",
      "5                              True                            False   \n",
      "6                              True                            False   \n",
      "7                             False                            False   \n",
      "8                             False                             True   \n",
      "9                             False                            False   \n",
      "\n",
      "   buildingCondition_TO_RENOVATE  buildingCondition_TO_RESTORE  \n",
      "0                          False                         False  \n",
      "1                          False                         False  \n",
      "2                          False                         False  \n",
      "3                          False                         False  \n",
      "4                          False                         False  \n",
      "5                          False                         False  \n",
      "6                          False                         False  \n",
      "7                          False                         False  \n",
      "8                          False                         False  \n",
      "9                          False                         False  \n",
      "\n",
      "[10 rows x 39 columns]\n",
      "bedroomCount                        float64\n",
      "bathroomCount                       float64\n",
      "postCode                              int64\n",
      "habitableSurface                    float64\n",
      "facedeCount                         float64\n",
      "hasTerrace                            int64\n",
      "price                               float64\n",
      "price_per_m2                        float64\n",
      "province_Brussels                      bool\n",
      "province_East Flanders                 bool\n",
      "province_Flemish Brabant               bool\n",
      "province_Hainaut                       bool\n",
      "province_Limburg                       bool\n",
      "province_Liège                         bool\n",
      "province_Luxembourg                    bool\n",
      "province_Namur                         bool\n",
      "province_Walloon Brabant               bool\n",
      "province_West Flanders                 bool\n",
      "epcScore_A+                            bool\n",
      "epcScore_A++                           bool\n",
      "epcScore_B                             bool\n",
      "epcScore_C                             bool\n",
      "epcScore_D                             bool\n",
      "epcScore_E                             bool\n",
      "epcScore_F                             bool\n",
      "epcScore_G                             bool\n",
      "subtype_DUPLEX                         bool\n",
      "subtype_FLAT_STUDIO                    bool\n",
      "subtype_GROUND_FLOOR                   bool\n",
      "subtype_KOT                            bool\n",
      "subtype_LOFT                           bool\n",
      "subtype_PENTHOUSE                      bool\n",
      "subtype_SERVICE_FLAT                   bool\n",
      "subtype_TRIPLEX                        bool\n",
      "buildingCondition_GOOD                 bool\n",
      "buildingCondition_JUST_RENOVATED       bool\n",
      "buildingCondition_TO_BE_DONE_UP        bool\n",
      "buildingCondition_TO_RENOVATE          bool\n",
      "buildingCondition_TO_RESTORE           bool\n",
      "dtype: object\n"
     ]
    }
   ],
   "source": [
    "df_appart= pd.get_dummies(df_appart, columns=['type','province', 'epcScore','subtype','buildingCondition'], drop_first=True)\n",
    "print(df_appart.head(10))\n",
    "print(df_appart.dtypes)"
   ]
  },
  {
   "cell_type": "code",
   "execution_count": null,
   "id": "12ae58ec",
   "metadata": {},
   "outputs": [],
   "source": [
    "# categorical transformer\n",
    "#categorical_features = ['type', 'province', 'epcScore', 'subtype', 'buildingCondition']\n",
    "#numerical_features = [col for col in df_appart.columns if col != 'price' and col not in categorical_features]\n",
    "\n",
    "#cat_transformer = OneHotEncoder(handle_unknown='ignore', drop='first')\n",
    "#numerical_transformer = StandardScaler()\n",
    "\n",
    "#preprocessor = ColumnTransformer(\n",
    "    #transformers=[\n",
    "        #('num', numerical_transformer, numerical_features),\n",
    "        #('cat', cat_transformer, categorical_features)],\n",
    "    #remainder='passthrough') # for other columns non-specific\n"
   ]
  },
  {
   "cell_type": "code",
   "execution_count": 41,
   "id": "a5414a49",
   "metadata": {},
   "outputs": [],
   "source": [
    "# 1. Create model GradientBoostingRegressor\n",
    "#model_gbr = GradientBoostingRegressor(n_estimators=100,      # Number of tree to build\n",
    "                                      #learning_rate=0.1,     # learning rate\n",
    "                                      #max_depth=3,           # tree depth\n",
    "                                      #random_state=42)\n",
    "appmodel_gbr = GradientBoostingRegressor(n_estimators=100,      \n",
    "                                      learning_rate=0.1,    \n",
    "                                      max_depth=5,           \n",
    "                                      random_state=42)\n",
    "\n",
    "# 2. Create Pipeline : \n",
    "pipeline_appart = Pipeline(steps=[('regressor',appmodel_gbr)])\n",
    "\n",
    "# 3. Prepare data for pipeline : \n",
    "X = df_appart.drop('price', axis=1)\n",
    "y = df_appart['price']\n",
    "\n",
    "#save the columns model for futures predictions\n",
    "model_columns = X.columns\n",
    "\n",
    "# 4. Test_split\n",
    "X_train, X_test, y_train, y_test = train_test_split(X, y, test_size=0.3, random_state=42)\n"
   ]
  },
  {
   "cell_type": "code",
   "execution_count": 13,
   "id": "4e1a649e",
   "metadata": {},
   "outputs": [
    {
     "name": "stdout",
     "output_type": "stream",
     "text": [
      "MAE: 7671.74\n",
      "RMSE: 25345.26\n",
      "R² score : 1.00\n"
     ]
    }
   ],
   "source": [
    "# 1. Train model GradientBoostingRegressor\n",
    "pipeline_appart.fit(X_train, y_train)\n",
    "\n",
    "# 2. Prediction on xtest\n",
    "y_pred_gbr = pipeline_appart.predict(X_test)\n",
    "\n",
    "# 3. Model evaluation\n",
    "mse = mean_squared_error(y_test, y_pred_gbr)\n",
    "MAE = mean_absolute_error(y_test, y_pred_gbr)\n",
    "r2 = r2_score(y_test, y_pred_gbr)\n",
    "\n",
    "print(f\"MAE: {MAE:.2f}\")\n",
    "print(f\"RMSE: {mse**0.5:.2f}\")\n",
    "print(f\"R² score : {r2:.2f}\")"
   ]
  },
  {
   "cell_type": "code",
   "execution_count": 14,
   "id": "3cf8ad99",
   "metadata": {},
   "outputs": [
    {
     "name": "stdout",
     "output_type": "stream",
     "text": [
      "Std deviation for appartment : 389687.03 €\n"
     ]
    }
   ],
   "source": [
    "# Comapre with the standard deviation if RMSE is acceptable: \n",
    "appart_price = df_appart['price']\n",
    "stdprice_appart = np.std(appart_price)\n",
    "\n",
    "print(f\"Std deviation for appartment : {stdprice_appart:.2f} €\")\n",
    "# ! Distribution is not \"normal\""
   ]
  },
  {
   "cell_type": "code",
   "execution_count": 15,
   "id": "13af7f8b",
   "metadata": {},
   "outputs": [
    {
     "data": {
      "image/png": "[encoded data removed]",
      "text/plain": [
       "<Figure size 640x480 with 1 Axes>"
      ]
     },
     "metadata": {},
     "output_type": "display_data"
    }
   ],
   "source": [
    "sns.histplot(df_appart['price'], kde=True)\n",
    "plt.title('Distribution appartement price')\n",
    "plt.xlabel('Price(€)')\n",
    "plt.ylabel('Frequency')\n",
    "plt.show()"
   ]
  },
  {
   "cell_type": "markdown",
   "id": "dd41085d",
   "metadata": {},
   "source": [
    "#### regarding the subtype distribution of appartment type, there are 75% of appartment subtype"
   ]
  },
  {
   "cell_type": "code",
   "execution_count": 16,
   "id": "53962d73",
   "metadata": {},
   "outputs": [
    {
     "name": "stdout",
     "output_type": "stream",
     "text": [
      "iqr price : 180000.00 €\n",
      "mad price : 86847.50 €\n",
      "median price : 285847.50 €\n",
      "mean price : 382981.85 €\n"
     ]
    }
   ],
   "source": [
    "iqr_price = df_appart['price'].quantile(0.75) - df_appart['price'].quantile(0.25)\n",
    "Appart_price = df_appart['price']\n",
    "median_price = df_appart['price'].median()\n",
    "mean_price = df_appart['price'].mean()\n",
    "absolute_dev = np.abs(Appart_price - median_price)\n",
    "mad_price = np.median(absolute_dev)\n",
    "\n",
    "\n",
    "print(f\"iqr price : {iqr_price:.2f} €\")\n",
    "print(f\"mad price : {mad_price:.2f} €\")\n",
    "print(f\"median price : {median_price:.2f} €\")\n",
    "print(f\"mean price : {mean_price:.2f} €\")"
   ]
  },
  {
   "cell_type": "code",
   "execution_count": 17,
   "id": "19832c6f",
   "metadata": {},
   "outputs": [
    {
     "name": "stdout",
     "output_type": "stream",
     "text": [
      "min price: 3200.00€\n",
      "max price: 7960000.00€\n",
      "RMSE in range price : 0.32%\n",
      "RMSE in median price : 8.86%\n"
     ]
    }
   ],
   "source": [
    "minapp = df_appart['price'].min()\n",
    "maxapp = df_appart['price'].max()\n",
    "\n",
    "#rmse = 34836.92  # calculated in model\n",
    "rmse = 25339.49\n",
    "\n",
    "rmse_range = (rmse / (maxapp - minapp)) * 100\n",
    "rmse_median = (rmse / median_price) * 100\n",
    "\n",
    "print(f\"min price: {minapp:.2f}€\")\n",
    "print(f\"max price: {maxapp:.2f}€\")\n",
    "print(f\"RMSE in range price : {rmse_range:.2f}%\")\n",
    "print(f\"RMSE in median price : {rmse_median:.2f}%\")"
   ]
  },
  {
   "cell_type": "markdown",
   "id": "7e9a0cb5",
   "metadata": {},
   "source": [
    "### Test prediction with sample"
   ]
  },
  {
   "cell_type": "markdown",
   "id": "0d472266",
   "metadata": {},
   "source": [
    "# 2. Price prediction for House"
   ]
  },
  {
   "cell_type": "code",
   "execution_count": 18,
   "id": "90fc80b2",
   "metadata": {},
   "outputs": [],
   "source": [
    "house = 'df_cleanhouse.csv'\n",
    "df_house = pd.read_csv(house, sep = ',')\n",
    "df_house = pd.DataFrame(df_house)"
   ]
  },
  {
   "cell_type": "code",
   "execution_count": 19,
   "id": "319df4a6",
   "metadata": {},
   "outputs": [
    {
     "name": "stdout",
     "output_type": "stream",
     "text": [
      "   bedroomCount  bathroomCount  postCode  habitableSurface  facedeCount  \\\n",
      "0           4.0            2.0      1040             270.0          2.0   \n",
      "1           4.0            2.0      1040             375.0          2.0   \n",
      "2           3.0            0.0      1040             277.0          2.0   \n",
      "3           6.0            2.0      1040             330.0          2.0   \n",
      "4           3.0            1.0      1040             178.0          2.0   \n",
      "5           5.0            3.0      1040             240.0          2.0   \n",
      "6           5.0            3.0      1040             252.0          4.0   \n",
      "7           6.0            2.0      1040             370.0          2.0   \n",
      "8           9.0            6.0      1040             528.0          2.0   \n",
      "9           6.0            5.0      1040             850.0          2.0   \n",
      "\n",
      "   hasTerrace      price  price_per_m2  province_Brussels  \\\n",
      "0           1   895000.0       3314.81               True   \n",
      "1           1  1095000.0       2920.00               True   \n",
      "2           0   660000.0       2382.67               True   \n",
      "3           1  1090000.0       3303.03               True   \n",
      "4           1   549000.0       3084.27               True   \n",
      "5           1   779000.0       3245.83               True   \n",
      "6           1   795000.0       3154.76               True   \n",
      "7           1  1125000.0       3040.54               True   \n",
      "8           1  1790000.0       3390.15               True   \n",
      "9           1  2895000.0       3405.88               True   \n",
      "\n",
      "   province_East Flanders  ...  subtype_MIXED_USE_BUILDING  \\\n",
      "0                   False  ...                       False   \n",
      "1                   False  ...                       False   \n",
      "2                   False  ...                       False   \n",
      "3                   False  ...                       False   \n",
      "4                   False  ...                       False   \n",
      "5                   False  ...                       False   \n",
      "6                   False  ...                       False   \n",
      "7                   False  ...                       False   \n",
      "8                   False  ...                       False   \n",
      "9                   False  ...                       False   \n",
      "\n",
      "   subtype_OTHER_PROPERTY  subtype_PAVILION  subtype_TOWN_HOUSE  \\\n",
      "0                   False             False               False   \n",
      "1                   False             False               False   \n",
      "2                   False             False               False   \n",
      "3                   False             False               False   \n",
      "4                   False             False               False   \n",
      "5                   False             False               False   \n",
      "6                   False             False               False   \n",
      "7                   False             False               False   \n",
      "8                   False             False               False   \n",
      "9                   False             False               False   \n",
      "\n",
      "   subtype_VILLA  buildingCondition_GOOD  buildingCondition_JUST_RENOVATED  \\\n",
      "0          False                   False                             False   \n",
      "1          False                    True                             False   \n",
      "2          False                   False                             False   \n",
      "3          False                   False                             False   \n",
      "4          False                   False                             False   \n",
      "5          False                   False                             False   \n",
      "6          False                    True                             False   \n",
      "7          False                   False                             False   \n",
      "8          False                   False                             False   \n",
      "9          False                   False                             False   \n",
      "\n",
      "   buildingCondition_TO_BE_DONE_UP  buildingCondition_TO_RENOVATE  \\\n",
      "0                             True                          False   \n",
      "1                            False                          False   \n",
      "2                            False                           True   \n",
      "3                            False                           True   \n",
      "4                            False                           True   \n",
      "5                            False                          False   \n",
      "6                            False                          False   \n",
      "7                            False                          False   \n",
      "8                            False                          False   \n",
      "9                            False                          False   \n",
      "\n",
      "   buildingCondition_TO_RESTORE  \n",
      "0                         False  \n",
      "1                         False  \n",
      "2                         False  \n",
      "3                         False  \n",
      "4                         False  \n",
      "5                         False  \n",
      "6                         False  \n",
      "7                         False  \n",
      "8                         False  \n",
      "9                         False  \n",
      "\n",
      "[10 rows x 56 columns]\n",
      "bedroomCount                        float64\n",
      "bathroomCount                       float64\n",
      "postCode                              int64\n",
      "habitableSurface                    float64\n",
      "facedeCount                         float64\n",
      "hasTerrace                            int64\n",
      "price                               float64\n",
      "price_per_m2                        float64\n",
      "province_Brussels                      bool\n",
      "province_East Flanders                 bool\n",
      "province_Flemish Brabant               bool\n",
      "province_Hainaut                       bool\n",
      "province_Limburg                       bool\n",
      "province_Liège                         bool\n",
      "province_Luxembourg                    bool\n",
      "province_Namur                         bool\n",
      "province_Walloon Brabant               bool\n",
      "province_West Flanders                 bool\n",
      "epcScore_A+                            bool\n",
      "epcScore_A++                           bool\n",
      "epcScore_B                             bool\n",
      "epcScore_C                             bool\n",
      "epcScore_C_A                           bool\n",
      "epcScore_C_B                           bool\n",
      "epcScore_D                             bool\n",
      "epcScore_D_C                           bool\n",
      "epcScore_E                             bool\n",
      "epcScore_E_C                           bool\n",
      "epcScore_E_D                           bool\n",
      "epcScore_F                             bool\n",
      "epcScore_F_C                           bool\n",
      "epcScore_F_D                           bool\n",
      "epcScore_G                             bool\n",
      "epcScore_G_C                           bool\n",
      "epcScore_G_E                           bool\n",
      "epcScore_G_F                           bool\n",
      "epcScore_X                             bool\n",
      "subtype_BUNGALOW                       bool\n",
      "subtype_CASTLE                         bool\n",
      "subtype_CHALET                         bool\n",
      "subtype_COUNTRY_COTTAGE                bool\n",
      "subtype_EXCEPTIONAL_PROPERTY           bool\n",
      "subtype_FARMHOUSE                      bool\n",
      "subtype_HOUSE                          bool\n",
      "subtype_MANOR_HOUSE                    bool\n",
      "subtype_MANSION                        bool\n",
      "subtype_MIXED_USE_BUILDING             bool\n",
      "subtype_OTHER_PROPERTY                 bool\n",
      "subtype_PAVILION                       bool\n",
      "subtype_TOWN_HOUSE                     bool\n",
      "subtype_VILLA                          bool\n",
      "buildingCondition_GOOD                 bool\n",
      "buildingCondition_JUST_RENOVATED       bool\n",
      "buildingCondition_TO_BE_DONE_UP        bool\n",
      "buildingCondition_TO_RENOVATE          bool\n",
      "buildingCondition_TO_RESTORE           bool\n",
      "dtype: object\n"
     ]
    }
   ],
   "source": [
    "df_house= pd.get_dummies(df_house, columns=['type','province', 'epcScore','subtype','buildingCondition'], drop_first=True)\n",
    "print(df_house.head(10))\n",
    "print(df_house.dtypes)"
   ]
  },
  {
   "cell_type": "code",
   "execution_count": null,
   "id": "10203506",
   "metadata": {},
   "outputs": [],
   "source": [
    "# categorical transformer\n",
    "#categorical_features = ['type', 'province', 'epcScore', 'subtype', 'buildingCondition']\n",
    "#numerical_features = [col for col in df_house.columns if col != 'price' and col not in categorical_features]\n",
    "\n",
    "#cat_transformer = OneHotEncoder(handle_unknown='ignore', drop='first')\n",
    "#numerical_transformer = StandardScaler()\n",
    "\n",
    "#preprocessor = ColumnTransformer(\n",
    "    #transformers=[\n",
    "        #('num', numerical_transformer, numerical_features),\n",
    "        #('cat', cat_transformer, categorical_features)],\n",
    "    #remainder='passthrough') # for other columns non-specific"
   ]
  },
  {
   "cell_type": "code",
   "execution_count": 53,
   "id": "5f88360e",
   "metadata": {},
   "outputs": [],
   "source": [
    "# 1. Train model GradientBoostingRegressor\n",
    "#model_gbr = GradientBoostingRegressor(n_estimators=100,      # Number of tree to build\n",
    "                                      #learning_rate=0.1,     # learning rate\n",
    "                                      #max_depth=3,           # tree depth\n",
    "                                      #random_state=42)\n",
    "housemodel_gbr = GradientBoostingRegressor(n_estimators=700,      # Number of tree to build\n",
    "                                      learning_rate=0.1,     # learning rate\n",
    "                                      max_depth=3,           # tree depth\n",
    "                                      random_state=42)\n",
    "\n",
    "# 2. Create Pipeline : \n",
    "pipeline_house = Pipeline(steps=[('regressor',housemodel_gbr)])\n",
    "\n",
    "# 3. Prepare data for pipeline : \n",
    "X = df_house.drop('price', axis=1)\n",
    "y = df_house['price']\n",
    "\n",
    "#save the columns model for futures predictions\n",
    "model_columns = X.columns\n",
    "\n",
    "# 4. Test_split\n",
    "X_train, X_test, y_train, y_test = train_test_split(X, y, test_size=0.3, random_state=42)"
   ]
  },
  {
   "cell_type": "code",
   "execution_count": 21,
   "id": "1cddc7b5",
   "metadata": {},
   "outputs": [
    {
     "name": "stdout",
     "output_type": "stream",
     "text": [
      "MAE: 11764.08\n",
      "RMSE: 84778.72\n",
      "R² score : 0.98\n"
     ]
    }
   ],
   "source": [
    "# 1. Train model GradientBoostingRegressor\n",
    "pipeline_house.fit(X_train, y_train)\n",
    "\n",
    "# 2. Prediction on xtest\n",
    "y_pred_gbr = pipeline_house.predict(X_test)\n",
    "\n",
    "# 3. Model evaluation\n",
    "mse = mean_squared_error(y_test, y_pred_gbr)\n",
    "MAE = mean_absolute_error(y_test, y_pred_gbr)\n",
    "r2 = r2_score(y_test, y_pred_gbr)\n",
    "\n",
    "print(f\"MAE: {MAE:.2f}\")\n",
    "print(f\"RMSE: {mse**0.5:.2f}\")\n",
    "print(f\"R² score : {r2:.2f}\")"
   ]
  },
  {
   "cell_type": "code",
   "execution_count": 22,
   "id": "54765bbc",
   "metadata": {},
   "outputs": [
    {
     "name": "stdout",
     "output_type": "stream",
     "text": [
      "Std deviation for house : 576618.39 €\n"
     ]
    }
   ],
   "source": [
    "# Comapre with the standard deviation if RMSE is acceptable: \n",
    "house_price = df_house['price']\n",
    "stdprice_house = np.std(house_price)\n",
    "\n",
    "print(f\"Std deviation for house : {stdprice_house:.2f} €\")\n",
    "# ! Distribution is not \"normal\""
   ]
  },
  {
   "cell_type": "code",
   "execution_count": 23,
   "id": "94813281",
   "metadata": {},
   "outputs": [
    {
     "data": {
      "image/png": "[encoded data removed]",
      "text/plain": [
       "<Figure size 640x480 with 1 Axes>"
      ]
     },
     "metadata": {},
     "output_type": "display_data"
    }
   ],
   "source": [
    "sns.histplot(df_house['price'], kde=True)\n",
    "plt.title('Distribution house price')\n",
    "plt.xlabel('Price(€)')\n",
    "plt.ylabel('Frequency')\n",
    "plt.show()"
   ]
  },
  {
   "cell_type": "code",
   "execution_count": 24,
   "id": "7ed1dca2",
   "metadata": {},
   "outputs": [
    {
     "name": "stdout",
     "output_type": "stream",
     "text": [
      "iqr price : 315000.00 €\n",
      "mad price : 129500.00 €\n",
      "median price : 369500.00 €\n",
      "mean price : 492103.43 €\n"
     ]
    }
   ],
   "source": [
    "iqr_price = df_house['price'].quantile(0.75) - df_appart['price'].quantile(0.25)\n",
    "house_price = df_house['price']\n",
    "median_price = df_house['price'].median()\n",
    "mean_price = df_house['price'].mean()\n",
    "absolute_dev = np.abs(house_price - median_price)\n",
    "mad_price = np.median(absolute_dev)\n",
    "\n",
    "\n",
    "print(f\"iqr price : {iqr_price:.2f} €\")\n",
    "print(f\"mad price : {mad_price:.2f} €\")\n",
    "print(f\"median price : {median_price:.2f} €\")\n",
    "print(f\"mean price : {mean_price:.2f} €\")"
   ]
  },
  {
   "cell_type": "code",
   "execution_count": 25,
   "id": "b30ecccb",
   "metadata": {},
   "outputs": [
    {
     "name": "stdout",
     "output_type": "stream",
     "text": [
      "min price: 3141.00€\n",
      "max price: 15000000.00€\n",
      "RMSE in range price : 0.57%\n",
      "RMSE in median price : 22.94%\n"
     ]
    }
   ],
   "source": [
    "minhouse = df_house['price'].min()\n",
    "maxhouse = df_house['price'].max()\n",
    "\n",
    "#rmse = 99495.98 # calculated in model max_depth = 3\n",
    "#rmse = 101775.18 # max_depth = 5\n",
    "#rmse = 98017.60 # max_depth = 4\n",
    "#rmse = 97996.74  #learning_rate = 0.2, max_depth = 4\n",
    "#rmse = 91226.39 #tree = 200, learning_rate = 0.1, max_depth = 3\n",
    "#rmse = 85757.97 #tree = 500, learning_rate = 0.1, max_depth = 3\n",
    "rmse = 84778.72 #tree = 700, learning_rate = 0.1, max_depth = 3\n",
    "\n",
    "rmse_range = (rmse / (maxhouse - minhouse)) * 100\n",
    "rmse_median = (rmse / median_price) * 100\n",
    "\n",
    "print(f\"min price: {minhouse:.2f}€\")\n",
    "print(f\"max price: {maxhouse:.2f}€\")\n",
    "print(f\"RMSE in range price : {rmse_range:.2f}%\")\n",
    "print(f\"RMSE in median price : {rmse_median:.2f}%\")"
   ]
  }
 ],
 "metadata": {
  "kernelspec": {
   "display_name": "Python 3",
   "language": "python",
   "name": "python3"
  },
  "language_info": {
   "codemirror_mode": {
    "name": "ipython",
    "version": 3
   },
   "file_extension": ".py",
   "mimetype": "text/x-python",
   "name": "python",
   "nbconvert_exporter": "python",
   "pygments_lexer": "ipython3",
   "version": "3.13.3"
  }
 },
 "nbformat": 4,
 "nbformat_minor": 5
}
